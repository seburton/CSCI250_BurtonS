{
 "cells": [
  {
   "cell_type": "markdown",
   "metadata": {
    "slideshow": {
     "slide_type": "slide"
    }
   },
   "source": [
    "<img src=\"https://www.mines.edu/webcentral/wp-content/uploads/sites/267/2019/02/horizontallightbackground.jpg\" width=\"100%\"> \n",
    "### CSCI250 Python Computing: Building a Sensor System\n",
    "<hr style=\"height:5px\" width=\"100%\" align=\"left\">\n",
    "\n",
    "# `matplotlib`: 1D plots"
   ]
  },
  {
   "cell_type": "markdown",
   "metadata": {
    "heading_collapsed": true,
    "slideshow": {
     "slide_type": "slide"
    }
   },
   "source": [
    "# Objective\n",
    "* introduce the `matplotlib` library and its use in 1D"
   ]
  },
  {
   "cell_type": "markdown",
   "metadata": {
    "slideshow": {
     "slide_type": "slide"
    }
   },
   "source": [
    "# Resources\n",
    "* [Matplotlib.org](https://matplotlib.org) <br>\n",
    "<img src=\"https://matplotlib.org/_static/logo2.png\" width=\"50%\" align=\"left\">"
   ]
  },
  {
   "cell_type": "markdown",
   "metadata": {
    "slideshow": {
     "slide_type": "slide"
    }
   },
   "source": [
    "# Definition\n",
    "`matplotlib` is a visualization package for `numpy` arrays. \n",
    "\n",
    "Can be used to embed figures in Jupyter notebooks. \n",
    "\n",
    "The `pyplot` module provides a MATLAB-like interface."
   ]
  },
  {
   "cell_type": "markdown",
   "metadata": {
    "slideshow": {
     "slide_type": "slide"
    }
   },
   "source": [
    "Import `pyplot` with alias `plt`."
   ]
  },
  {
   "cell_type": "code",
   "execution_count": null,
   "metadata": {
    "slideshow": {
     "slide_type": "-"
    }
   },
   "outputs": [],
   "source": [
    "import matplotlib.pyplot as plt\n",
    "import numpy as np"
   ]
  },
  {
   "cell_type": "markdown",
   "metadata": {},
   "source": [
    "Type `plt` followed by `.` and TAB to explore the plotting methods."
   ]
  },
  {
   "cell_type": "code",
   "execution_count": null,
   "metadata": {
    "scrolled": true
   },
   "outputs": [],
   "source": [
    "# hit TAB to see methods\n",
    "plt."
   ]
  },
  {
   "cell_type": "markdown",
   "metadata": {
    "slideshow": {
     "slide_type": "slide"
    }
   },
   "source": [
    "Demonstrate plotting methods with the 1D functions:\n",
    "\n",
    "$s(x) = \\sin x$,\n",
    "\n",
    "$c(x) = \\cos x$."
   ]
  },
  {
   "cell_type": "code",
   "execution_count": null,
   "metadata": {},
   "outputs": [],
   "source": [
    "x = np.linspace(0, 10*np.pi, 1000)\n",
    "\n",
    "ys = np.sin(x)\n",
    "yc = np.cos(x)"
   ]
  },
  {
   "cell_type": "markdown",
   "metadata": {
    "slideshow": {
     "slide_type": "slide"
    }
   },
   "source": [
    "# `plt.plot()`\n",
    "Plot $y$ versus $x$ as lines and/or markers."
   ]
  },
  {
   "cell_type": "code",
   "execution_count": null,
   "metadata": {
    "slideshow": {
     "slide_type": "-"
    }
   },
   "outputs": [],
   "source": [
    "plt.plot(x,ys);"
   ]
  },
  {
   "cell_type": "code",
   "execution_count": null,
   "metadata": {
    "slideshow": {
     "slide_type": "slide"
    }
   },
   "outputs": [],
   "source": [
    "# can specify the type of line\n",
    "plt.plot(x,ys,'--');"
   ]
  },
  {
   "cell_type": "code",
   "execution_count": null,
   "metadata": {
    "slideshow": {
     "slide_type": "slide"
    }
   },
   "outputs": [],
   "source": [
    "# can plot with markers\n",
    "plt.plot(x[::5],ys[::5],'.');"
   ]
  },
  {
   "cell_type": "code",
   "execution_count": null,
   "metadata": {
    "scrolled": false,
    "slideshow": {
     "slide_type": "slide"
    }
   },
   "outputs": [],
   "source": [
    "# can overlay lines with different colors\n",
    "plt.plot(x,ys,'r')  # red\n",
    "plt.plot(x,yc,'b'); # blue"
   ]
  },
  {
   "cell_type": "markdown",
   "metadata": {
    "slideshow": {
     "slide_type": "slide"
    }
   },
   "source": [
    "# `figsize`\n",
    "\n",
    "Set-up the figure size in physical units (inches)."
   ]
  },
  {
   "cell_type": "code",
   "execution_count": null,
   "metadata": {},
   "outputs": [],
   "source": [
    "# can make the figure larger\n",
    "plt.figure(figsize=(15,5))\n",
    "\n",
    "plt.plot(x,ys,'r')  # red\n",
    "plt.plot(x,yc,'b'); # blue"
   ]
  },
  {
   "cell_type": "markdown",
   "metadata": {
    "heading_collapsed": true,
    "slideshow": {
     "slide_type": "slide"
    }
   },
   "source": [
    "# `plt.axis()`\n",
    "Get or set properties of the plot axes.\n",
    "\n",
    "* turn off the axis lines and labels <br>\n",
    "`axis('off')`\n",
    "\n",
    "* equal increments of $x$ and $y$ have the same length <br>\n",
    "`axis('equal')`\n",
    "\n",
    "* all data are shown <br>\n",
    "`axis('tight')`\n",
    "\n",
    "* all axes have the same scaling <br>\n",
    "`axis('square')`\n",
    "\n",
    "* sets the axes limits <br>\n",
    "`axis( [xmin, xmax, ymin, ymax] )`"
   ]
  },
  {
   "cell_type": "code",
   "execution_count": null,
   "metadata": {
    "hidden": true,
    "scrolled": false,
    "slideshow": {
     "slide_type": "slide"
    }
   },
   "outputs": [],
   "source": [
    "# can limit the extent of the figure\n",
    "plt.figure(figsize=(15,5))\n",
    "\n",
    "plt.plot(x,ys,'r')\n",
    "plt.plot(x,yc,'b')\n",
    "\n",
    "plt.axis([2*np.pi, 6*np.pi, 0.0, +1.0]);"
   ]
  },
  {
   "cell_type": "markdown",
   "metadata": {
    "slideshow": {
     "slide_type": "slide"
    }
   },
   "source": [
    "# `plt.xlim()`, `plt.ylim()`\n",
    "Get or set the $x$ and $y$ limits of the current axes."
   ]
  },
  {
   "cell_type": "code",
   "execution_count": null,
   "metadata": {},
   "outputs": [],
   "source": [
    "plt.figure(figsize=(15,5))\n",
    "\n",
    "plt.plot(x,ys,'r')\n",
    "plt.plot(x,yc,'b')\n",
    "\n",
    "plt.xlim(5,10)\n",
    "plt.ylim(0,1);"
   ]
  },
  {
   "cell_type": "markdown",
   "metadata": {
    "slideshow": {
     "slide_type": "slide"
    }
   },
   "source": [
    "# `plt.subplot()`\n",
    "Generate a subplot within a figure."
   ]
  },
  {
   "cell_type": "code",
   "execution_count": null,
   "metadata": {
    "slideshow": {
     "slide_type": "-"
    }
   },
   "outputs": [],
   "source": [
    "plt.figure(figsize=(7,5))\n",
    "\n",
    "# first panel\n",
    "plt.subplot(2, 1, 1) # (rows, columns, panel number)\n",
    "plt.plot(x, ys,'r')\n",
    "\n",
    "# second panel\n",
    "plt.subplot(2, 1, 2)\n",
    "plt.plot(x, yc,'b--');"
   ]
  },
  {
   "cell_type": "code",
   "execution_count": null,
   "metadata": {
    "slideshow": {
     "slide_type": "slide"
    }
   },
   "outputs": [],
   "source": [
    "plt.figure(figsize=(15,2.5))\n",
    "\n",
    "# first panel\n",
    "plt.subplot(1, 2, 1) # (rows, columns, panel number)\n",
    "plt.plot(x, ys,'r-')\n",
    "\n",
    "# second panel\n",
    "plt.subplot(1, 2, 2)\n",
    "plt.plot(x, yc,'b--');"
   ]
  },
  {
   "cell_type": "markdown",
   "metadata": {
    "slideshow": {
     "slide_type": "slide"
    }
   },
   "source": [
    "## line attributes\n",
    "\n",
    "* color\n",
    "* style\n",
    "* width"
   ]
  },
  {
   "cell_type": "code",
   "execution_count": null,
   "metadata": {
    "scrolled": true
   },
   "outputs": [],
   "source": [
    "plt.figure(figsize=(15,2.5))\n",
    "\n",
    "# first panel\n",
    "plt.subplot(1, 2, 1) # (rows, columns, panel number)\n",
    "plt.plot(x, ys, color='r',linestyle='-',linewidth=1)\n",
    "\n",
    "# second panel\n",
    "plt.subplot(1, 2, 2)\n",
    "plt.plot(x, yc, color='b',linestyle='--',linewidth=3);"
   ]
  },
  {
   "cell_type": "markdown",
   "metadata": {
    "slideshow": {
     "slide_type": "slide"
    }
   },
   "source": [
    "# `plt.xlabel()`\n",
    "# `plt.ylabel()`"
   ]
  },
  {
   "cell_type": "code",
   "execution_count": null,
   "metadata": {},
   "outputs": [],
   "source": [
    "plt.figure(figsize=(15,5))\n",
    "\n",
    "plt.plot(x, ys,'k')\n",
    "plt.xlabel('a[radians]')\n",
    "plt.ylabel('sin(a)');"
   ]
  },
  {
   "cell_type": "markdown",
   "metadata": {
    "slideshow": {
     "slide_type": "slide"
    }
   },
   "source": [
    "# `plt.title()`"
   ]
  },
  {
   "cell_type": "code",
   "execution_count": null,
   "metadata": {
    "scrolled": true
   },
   "outputs": [],
   "source": [
    "plt.figure(figsize=(15,5))\n",
    "\n",
    "plt.plot(x, ys,'k')\n",
    "plt.xlabel('a[radians]')\n",
    "plt.ylabel('sin(a)')\n",
    "plt.title('sin function', fontsize=20);"
   ]
  },
  {
   "cell_type": "markdown",
   "metadata": {
    "slideshow": {
     "slide_type": "slide"
    }
   },
   "source": [
    "# `plt.errorbar()`\n",
    "Plot $y$ versus $x$ as lines and/or markers with  **uncertainty bars**."
   ]
  },
  {
   "cell_type": "code",
   "execution_count": null,
   "metadata": {},
   "outputs": [],
   "source": [
    "plt.figure(figsize=(15,5))\n",
    "\n",
    "e = 0.1 + 0.01 * x\n",
    "plt.errorbar(x[::15], ys[::15], yerr=e[::15], fmt='o');"
   ]
  },
  {
   "cell_type": "markdown",
   "metadata": {
    "slideshow": {
     "slide_type": "slide"
    }
   },
   "source": [
    "# `plt.semilogx()`\n",
    "Makes a plot with log scale along the $x$ axis.\n",
    "\n",
    "# `plt.semilogy()`\n",
    "Makes a plot with log scale along the $y$ axis.\n",
    "\n",
    "# `plt.loglog()`\n",
    "Makes a plot with log scale along both $x$ and $y$ axes."
   ]
  },
  {
   "cell_type": "code",
   "execution_count": null,
   "metadata": {
    "slideshow": {
     "slide_type": "slide"
    }
   },
   "outputs": [],
   "source": [
    "plt.figure(figsize=(15,5))\n",
    "\n",
    "y = np.exp(0.1*x) * (1+np.sin(2*x))\n",
    "\n",
    "plt.subplot(2, 2, 1)\n",
    "plt.plot(x, y)\n",
    "\n",
    "plt.subplot(2, 2, 2)\n",
    "plt.semilogy(x,y)\n",
    "\n",
    "plt.subplot(2, 2, 3)\n",
    "plt.semilogx(x,y)\n",
    "\n",
    "plt.subplot(2, 2, 4)\n",
    "plt.loglog(x,y);"
   ]
  },
  {
   "cell_type": "markdown",
   "metadata": {
    "slideshow": {
     "slide_type": "slide"
    }
   },
   "source": [
    "# `plt.legend()`\n",
    "Places a legend on the figure."
   ]
  },
  {
   "cell_type": "code",
   "execution_count": null,
   "metadata": {},
   "outputs": [],
   "source": [
    "plt.figure(figsize=(15,5))\n",
    "\n",
    "plt.plot(x, ys,'r')\n",
    "plt.plot(x, yc,'b');\n",
    "plt.legend(['sin','cos'], fontsize=20);"
   ]
  },
  {
   "cell_type": "markdown",
   "metadata": {
    "slideshow": {
     "slide_type": "slide"
    }
   },
   "source": [
    "# `plt.grid()`\n",
    "Turn the $x$ and $y$ grids on or off."
   ]
  },
  {
   "cell_type": "code",
   "execution_count": null,
   "metadata": {},
   "outputs": [],
   "source": [
    "plt.figure(figsize=(15,5))\n",
    "\n",
    "plt.plot(x, ys,'r')\n",
    "plt.plot(x, yc,'b');\n",
    "plt.legend(['sin','cos'], fontsize=20)\n",
    "\n",
    "plt.grid()"
   ]
  },
  {
   "cell_type": "markdown",
   "metadata": {
    "slideshow": {
     "slide_type": "slide"
    }
   },
   "source": [
    "# `plt.xticks()`, `plt.yticks()`\n",
    "Get or set the current tick locations and labels on a given axis."
   ]
  },
  {
   "cell_type": "code",
   "execution_count": null,
   "metadata": {},
   "outputs": [],
   "source": [
    "plt.figure(figsize=(15,5))\n",
    "\n",
    "plt.plot(x, ys,'r')\n",
    "plt.plot(x, yc,'b');\n",
    "\n",
    "plt.grid(True)\n",
    "plt.xticks([ 2.0, 9.5, 21])\n",
    "plt.yticks([-0.5,-0.1,0.8]);"
   ]
  },
  {
   "cell_type": "markdown",
   "metadata": {
    "slideshow": {
     "slide_type": "slide"
    }
   },
   "source": [
    "# `plt.scatter()`\n",
    "A scatter plot of $y$ vs $x$ with specified marker size and/or color."
   ]
  },
  {
   "cell_type": "code",
   "execution_count": null,
   "metadata": {
    "scrolled": true
   },
   "outputs": [],
   "source": [
    "plt.figure(figsize=(5,5))\n",
    "\n",
    "plt.plot(ys,yc,'r')             # plot  all samples\n",
    "plt.scatter(ys[::10],yc[::10])  # plot some samples\n",
    "plt.axis('equal')\n",
    "plt.axis('off');"
   ]
  },
  {
   "cell_type": "markdown",
   "metadata": {
    "slideshow": {
     "slide_type": "slide"
    }
   },
   "source": [
    "# `plot.text()`\n",
    "Add text to a plot at specified coordinates indicated by the $x$ and $y$."
   ]
  },
  {
   "cell_type": "code",
   "execution_count": null,
   "metadata": {
    "scrolled": true
   },
   "outputs": [],
   "source": [
    "plt.figure(figsize=(5,5))\n",
    "\n",
    "plt.plot(ys,yc,'r')\n",
    "plt.scatter(ys[::10],yc[::10])\n",
    "plt.axis('equal')\n",
    "plt.axis('off')\n",
    "\n",
    "plt.text(ys[13],yc[13],'note this', fontsize=20);"
   ]
  },
  {
   "cell_type": "markdown",
   "metadata": {
    "slideshow": {
     "slide_type": "slide"
    }
   },
   "source": [
    "<img src=\"https://www.dropbox.com/s/wj23ce93pa9j8pe/demo.png?raw=1\" width=\"10%\" align=\"left\">\n",
    "\n",
    "# Exercise\n",
    "**Plot a parabola**.\n",
    "\n",
    "$y=ax^2+bx+c$\n",
    "\n",
    "for set values of the constants $a$, $b$ and $c$.\n",
    "\n",
    "Add labels and titles to make the plot look professional."
   ]
  },
  {
   "cell_type": "markdown",
   "metadata": {
    "slideshow": {
     "slide_type": "slide"
    }
   },
   "source": [
    "<img src=\"https://www.dropbox.com/s/wj23ce93pa9j8pe/demo.png?raw=1\" width=\"10%\" align=\"left\">\n",
    "\n",
    "# Exercise\n",
    "**Explore the convergence of the Leibniz formula**.\n",
    "\n",
    "Use the Leibniz formula to approximate $\\pi$ for different number of terms $n<1000$.\n",
    "Plot the value of $\\pi$ as a function of $n$.\n",
    "\n",
    "Add labels and titles to make the plot look professional."
   ]
  },
  {
   "cell_type": "markdown",
   "metadata": {
    "slideshow": {
     "slide_type": "slide"
    }
   },
   "source": [
    "<img src=\"https://www.dropbox.com/s/wj23ce93pa9j8pe/demo.png?raw=1\" width=\"10%\" align=\"left\">\n",
    "\n",
    "# Exercise\n",
    "**Plot yearly wins and losses of a sports team**.\n",
    "\n",
    "Find a website that lists the yearly number of wins and losses of your favorite sports team. Put those values into `numpy` arrays and plot them using `matplotlib` subplots. \n",
    "\n",
    "Add labels and titles to make the plot look professional."
   ]
  }
 ],
 "metadata": {
  "celltoolbar": "Slideshow",
  "kernelspec": {
   "display_name": "Python 3",
   "language": "python",
   "name": "python3"
  },
  "language_info": {
   "codemirror_mode": {
    "name": "ipython",
    "version": 3
   },
   "file_extension": ".py",
   "mimetype": "text/x-python",
   "name": "python",
   "nbconvert_exporter": "python",
   "pygments_lexer": "ipython3",
   "version": "3.8.3"
  },
  "varInspector": {
   "cols": {
    "lenName": 16,
    "lenType": 16,
    "lenVar": 40
   },
   "kernels_config": {
    "python": {
     "delete_cmd_postfix": "",
     "delete_cmd_prefix": "del ",
     "library": "var_list.py",
     "varRefreshCmd": "print(var_dic_list())"
    },
    "r": {
     "delete_cmd_postfix": ") ",
     "delete_cmd_prefix": "rm(",
     "library": "var_list.r",
     "varRefreshCmd": "cat(var_dic_list()) "
    }
   },
   "types_to_exclude": [
    "module",
    "function",
    "builtin_function_or_method",
    "instance",
    "_Feature"
   ],
   "window_display": false
  }
 },
 "nbformat": 4,
 "nbformat_minor": 2
}
