{
 "cells": [
  {
   "cell_type": "markdown",
   "metadata": {
    "slideshow": {
     "slide_type": "slide"
    }
   },
   "source": [
    "<img src=\"https://www.mines.edu/webcentral/wp-content/uploads/sites/267/2019/02/horizontallightbackground.jpg\" width=\"100%\"> \n",
    "### CSCI250 Python Computing: Building a Sensor System\n",
    "<hr style=\"height:5px\" width=\"100%\" align=\"left\">\n",
    "\n",
    "# Object-oriented programming: basics"
   ]
  },
  {
   "cell_type": "markdown",
   "metadata": {
    "heading_collapsed": true,
    "slideshow": {
     "slide_type": "slide"
    }
   },
   "source": [
    "# Objective\n",
    "introduce **object-oriented programming** concepts"
   ]
  },
  {
   "cell_type": "markdown",
   "metadata": {
    "slideshow": {
     "slide_type": "slide"
    }
   },
   "source": [
    "# Resources\n",
    "* [Python introduction](https://docs.python.org/3/tutorial)\n",
    "* [Python reference](https://docs.python.org/3/tutorial/classes.html)\n",
    "* [Programiz Python tutorial](https://www.programiz.com/python-programming/object-oriented-programming)"
   ]
  },
  {
   "cell_type": "markdown",
   "metadata": {
    "slideshow": {
     "slide_type": "slide"
    }
   },
   "source": [
    "# Object-Oriented Programming\n",
    "\n",
    "A programming paradigm focused on **code reusability**. \n",
    "\n",
    "It operates with two **key concepts**:\n",
    "* **classes** - represent blueprints of **objects**\n",
    "* **objects** - represent instances of **classes**"
   ]
  },
  {
   "cell_type": "markdown",
   "metadata": {
    "slideshow": {
     "slide_type": "slide"
    }
   },
   "source": [
    "# classes\n",
    "\n",
    "Are blueprints for creating objects:\n",
    "* define data that can be stored in an object\n",
    "* define procedures that can be applied to objects\n",
    "\n",
    "**N.B.**: No storage is allocated until objects are created.\n",
    "\n",
    "***\n",
    "**Example**: Define a **class** called `Character` - describes all possible comic strip characters."
   ]
  },
  {
   "cell_type": "markdown",
   "metadata": {
    "heading_collapsed": true,
    "slideshow": {
     "slide_type": "slide"
    }
   },
   "source": [
    "# objects\n",
    "\n",
    "Are instances of a class encapsulating \n",
    "* **attributes**: i.e. the content of the object (data)\n",
    "* **methods**: i.e. the behavior of the object (functions)\n",
    "\n",
    "**N.B.**: Objects of a class have identical attributes and methods.\n",
    "\n",
    "***\n",
    "**Example**: Can build an object called `Calvin` - a specific cartoon character derived from the class `Character`."
   ]
  },
  {
   "cell_type": "markdown",
   "metadata": {
    "slideshow": {
     "slide_type": "slide"
    }
   },
   "source": [
    "# class definition\n",
    "\n",
    "A `class` definition provides info about variables and methods associated with all the objects defined based on a class.\n",
    "\n",
    "Self documentation follows the `class` statement."
   ]
  },
  {
   "cell_type": "code",
   "execution_count": null,
   "metadata": {},
   "outputs": [],
   "source": [
    "class Person:                                       # class definition \n",
    "    '''class Person describes persons'''            # class documentation"
   ]
  },
  {
   "cell_type": "markdown",
   "metadata": {
    "slideshow": {
     "slide_type": "slide"
    }
   },
   "source": [
    "Self documentation can be obtained with `?` or with `help()`. "
   ]
  },
  {
   "cell_type": "code",
   "execution_count": null,
   "metadata": {},
   "outputs": [],
   "source": [
    "Person?\n",
    "help(Person)"
   ]
  },
  {
   "cell_type": "markdown",
   "metadata": {
    "slideshow": {
     "slide_type": "slide"
    }
   },
   "source": [
    "# class constructor\n",
    "\n",
    "A function used to create objects and initialize variables."
   ]
  },
  {
   "cell_type": "code",
   "execution_count": null,
   "metadata": {},
   "outputs": [],
   "source": [
    "class Person:                                       # class definition \n",
    "    '''class Person describes persons'''            # class documentation\n",
    "    \n",
    "    def __init__(self, first,last,age ):            # constructor\n",
    "        self.first = first                          # instance variables\n",
    "        self.last  = last                           #\n",
    "        self.age   = age                            #"
   ]
  },
  {
   "cell_type": "markdown",
   "metadata": {},
   "source": [
    "* `__init__()`: the class constructor (a method)\n",
    "* `self`: allows an object to refer to itself"
   ]
  },
  {
   "cell_type": "markdown",
   "metadata": {
    "slideshow": {
     "slide_type": "slide"
    }
   },
   "source": [
    "**N.B.**: Differentiate between \n",
    "* arguments of the constructor function\n",
    "    * `first`, `last`, `age`\n",
    "* instance variables (object attributes)\n",
    "    * `self.first`, `self.last`, `self.age`"
   ]
  },
  {
   "cell_type": "markdown",
   "metadata": {
    "slideshow": {
     "slide_type": "slide"
    }
   },
   "source": [
    "The constructor function is not called explicitly: \n",
    "* objects are built by invoking the class name\n",
    "* receives the arguments of the constructor function\n",
    "* receive the object using the argument `self`\n",
    "\n",
    "**N.B.**: Instance variables are **not** initialized when defining the class, but when defining objects based on the class."
   ]
  },
  {
   "cell_type": "code",
   "execution_count": null,
   "metadata": {
    "slideshow": {
     "slide_type": "-"
    }
   },
   "outputs": [],
   "source": [
    "# create new objects (lisa,bart,maggie)\n",
    "# as instances of class Person\n",
    "\n",
    "lisa   = Person(  'Lisa','Simpson', 8)  \n",
    "bart   = Person(  'Bart','Simpson',10) \n",
    "maggie = Person('Maggie','Simpson', 1)"
   ]
  },
  {
   "cell_type": "markdown",
   "metadata": {
    "slideshow": {
     "slide_type": "slide"
    }
   },
   "source": [
    "# `type()`\n",
    "\n",
    "Builtin function - returns the class from which an object was created."
   ]
  },
  {
   "cell_type": "code",
   "execution_count": null,
   "metadata": {},
   "outputs": [],
   "source": [
    "print( type(bart) )\n",
    "print( type(lisa) )\n",
    "print( type(maggie) )"
   ]
  },
  {
   "cell_type": "markdown",
   "metadata": {
    "slideshow": {
     "slide_type": "slide"
    }
   },
   "source": [
    "Instance variables are **public** - can be accessed directly."
   ]
  },
  {
   "cell_type": "code",
   "execution_count": null,
   "metadata": {},
   "outputs": [],
   "source": [
    "# access instance variables\n",
    "print( lisa.first )\n",
    "print( lisa.last )\n",
    "print( lisa.age )"
   ]
  },
  {
   "cell_type": "markdown",
   "metadata": {
    "slideshow": {
     "slide_type": "slide"
    }
   },
   "source": [
    "# `del`\n",
    "\n",
    "Keyword - destroys an object (including its attributes). \n",
    "\n",
    "No other objects or the class itself are affected."
   ]
  },
  {
   "cell_type": "code",
   "execution_count": null,
   "metadata": {
    "scrolled": true
   },
   "outputs": [],
   "source": [
    "del bart\n",
    "del lisa\n",
    "del maggie"
   ]
  },
  {
   "cell_type": "markdown",
   "metadata": {
    "slideshow": {
     "slide_type": "slide"
    }
   },
   "source": [
    "# variables\n",
    "\n",
    "**Instance variables**: belong to objects\n",
    "   * have specific values for each object\n",
    "   * accessed by `objectName.instanceVariable`\n",
    "\n",
    "**Class variables**: belong to the class\n",
    "   * have values shared by all objects of the class\n",
    "   * accessed by `objectName.classVariable` or\n",
    "   * accessed by `className.classVariable`\n",
    "\n",
    "**Member variables** include the class and instance variables."
   ]
  },
  {
   "cell_type": "code",
   "execution_count": null,
   "metadata": {
    "slideshow": {
     "slide_type": "slide"
    }
   },
   "outputs": [],
   "source": [
    "class Person:                                       # class definition \n",
    "    '''class Person describes persons'''            # class documentation\n",
    "\n",
    "    species = 'Home Sapiens'                        # class variables\n",
    "    planet  = 'Terra'                               #\n",
    "    \n",
    "    def __init__(self, first,last,age ):            # constructor\n",
    "        self.first = first                          # instance variables\n",
    "        self.last  = last                           #\n",
    "        self.age   = age                            #"
   ]
  },
  {
   "cell_type": "code",
   "execution_count": null,
   "metadata": {},
   "outputs": [],
   "source": [
    "lisa   = Person(  'Lisa','Simpson', 8)  \n",
    "bart   = Person(  'Bart','Simpson',10) \n",
    "maggie = Person('Maggie','Simpson', 1)"
   ]
  },
  {
   "cell_type": "markdown",
   "metadata": {
    "slideshow": {
     "slide_type": "slide"
    }
   },
   "source": [
    "#  namespace\n",
    "\n",
    "A `dict` containing all variables associated with a class or an object."
   ]
  },
  {
   "cell_type": "code",
   "execution_count": null,
   "metadata": {},
   "outputs": [],
   "source": [
    "# instance variables - associated with the object\n",
    "print(lisa.__dict__)\n",
    "\n",
    "# access through an object\n",
    "print( lisa.__dict__['first'] )\n",
    "print( lisa.__dict__['age'] )"
   ]
  },
  {
   "cell_type": "code",
   "execution_count": null,
   "metadata": {
    "scrolled": true
   },
   "outputs": [],
   "source": [
    "# class variables - associated with the class\n",
    "print(Person.__dict__)\n",
    "\n",
    "# access through the class\n",
    "print(Person.__dict__['species'])\n",
    "print(Person.__dict__['planet'])"
   ]
  },
  {
   "cell_type": "markdown",
   "metadata": {
    "slideshow": {
     "slide_type": "slide"
    }
   },
   "source": [
    "Class variables are **public** - can be accessed directly."
   ]
  },
  {
   "cell_type": "code",
   "execution_count": null,
   "metadata": {},
   "outputs": [],
   "source": [
    "# access class variables - using the class\n",
    "print(Person.species)\n",
    "print(Person.planet)"
   ]
  },
  {
   "cell_type": "code",
   "execution_count": null,
   "metadata": {
    "scrolled": true
   },
   "outputs": [],
   "source": [
    "# access class variables - using objects\n",
    "print(bart.species)\n",
    "print(bart.planet)"
   ]
  },
  {
   "cell_type": "markdown",
   "metadata": {
    "slideshow": {
     "slide_type": "slide"
    }
   },
   "source": [
    "Changing a class variable impacts all objects of the class."
   ]
  },
  {
   "cell_type": "code",
   "execution_count": null,
   "metadata": {},
   "outputs": [],
   "source": [
    "print(lisa.planet)\n",
    "print(bart.planet)"
   ]
  },
  {
   "cell_type": "code",
   "execution_count": null,
   "metadata": {},
   "outputs": [],
   "source": [
    "Person.planet = 'Mars'\n",
    "\n",
    "print(lisa.planet)\n",
    "print(bart.planet)"
   ]
  },
  {
   "cell_type": "markdown",
   "metadata": {
    "slideshow": {
     "slide_type": "slide"
    }
   },
   "source": [
    "# methods\n",
    "\n",
    "Functions associated with objects built from a class.\n",
    "\n",
    "**Instance methods**: receive `self`\n",
    "   * belong to individual objects\n",
    "   * have access to instance and class variables\n",
    "\n",
    "**Class methods**: receive `cls`\n",
    "   * belong to the class as a whole\n",
    "   * have access only to class variables \n",
    "    \n",
    "**Static methods**: do not receive `self` or `cls`\n",
    "   * are not specific for a class or an object \n",
    "   * cannot access class or instance variables"
   ]
  },
  {
   "cell_type": "markdown",
   "metadata": {
    "slideshow": {
     "slide_type": "slide"
    }
   },
   "source": [
    "## instance methods"
   ]
  },
  {
   "cell_type": "code",
   "execution_count": null,
   "metadata": {
    "slideshow": {
     "slide_type": "-"
    }
   },
   "outputs": [],
   "source": [
    "class Person:                                       # class definition \n",
    "    '''class Person describes persons'''            # class documentation\n",
    "    \n",
    "    species = 'Home Sapiens'                        # class variables\n",
    "    planet  = 'Terra'                               #\n",
    "    \n",
    "    def __init__(self, first,last,age ):            # constructor\n",
    "        self.first = first                          # instance variables\n",
    "        self.last  = last                           #\n",
    "        self.age   = age                            #\n",
    "        \n",
    "    def identity(self):                             # instance method\n",
    "        '''displays the identity of a person'''     # method documentation\n",
    "        print(self.first,self.last,', age',self.age)"
   ]
  },
  {
   "cell_type": "markdown",
   "metadata": {
    "slideshow": {
     "slide_type": "slide"
    }
   },
   "source": [
    "* `identity()`: **instance method**\n",
    "    * defined with the instance variable name `self`\n",
    "    * receives `self` by default \n",
    "    * can return selfdoc by `help` or `?`"
   ]
  },
  {
   "cell_type": "code",
   "execution_count": null,
   "metadata": {
    "slideshow": {
     "slide_type": "-"
    }
   },
   "outputs": [],
   "source": [
    "help(Person.identity)\n",
    "Person.identity?"
   ]
  },
  {
   "cell_type": "code",
   "execution_count": null,
   "metadata": {
    "slideshow": {
     "slide_type": "slide"
    }
   },
   "outputs": [],
   "source": [
    "lisa   = Person(  'Lisa','Simpson', 8)  \n",
    "bart   = Person(  'Bart','Simpson',10) \n",
    "maggie = Person('Maggie','Simpson', 1)\n",
    "\n",
    "# call the instance method\n",
    "bart.identity()\n",
    "lisa.identity()\n",
    "maggie.identity()"
   ]
  },
  {
   "cell_type": "markdown",
   "metadata": {
    "slideshow": {
     "slide_type": "slide"
    }
   },
   "source": [
    "## class methods"
   ]
  },
  {
   "cell_type": "code",
   "execution_count": null,
   "metadata": {
    "slideshow": {
     "slide_type": "-"
    }
   },
   "outputs": [],
   "source": [
    "class Person:                                       # class definition \n",
    "    '''class Person describes persons'''            # class documentation\n",
    "    \n",
    "    species = 'Home Sapiens'                        # class variables\n",
    "    planet  = 'Terra'                               #\n",
    "    \n",
    "    def __init__(self, first,last,age ):            # constructor\n",
    "        self.first = first                          # instance variables\n",
    "        self.last  = last                           #\n",
    "        self.age   = age                            #\n",
    "        \n",
    "    def identity(self):                             # instance method\n",
    "        '''displays the identity of a person'''     # method documentation\n",
    "        print(self.first,self.last,', age',self.age)\n",
    "        \n",
    "    @classmethod                                    # class method declarator \n",
    "    def location(cls,planet):                       # class method\n",
    "        '''modifies the class variable planet'''    # method documentation\n",
    "        cls.planet = planet"
   ]
  },
  {
   "cell_type": "markdown",
   "metadata": {
    "slideshow": {
     "slide_type": "slide"
    }
   },
   "source": [
    "* `location()`: **class method**\n",
    "    * defined with the class variable name `cls`\n",
    "    * receives `cls` by default\n",
    "    * can return selfdoc by `help` or `?`"
   ]
  },
  {
   "cell_type": "code",
   "execution_count": null,
   "metadata": {
    "slideshow": {
     "slide_type": "-"
    }
   },
   "outputs": [],
   "source": [
    "help(Person.location)\n",
    "Person.location?"
   ]
  },
  {
   "cell_type": "code",
   "execution_count": null,
   "metadata": {
    "slideshow": {
     "slide_type": "slide"
    }
   },
   "outputs": [],
   "source": [
    "lisa   = Person(  'Lisa','Simpson', 8)  \n",
    "bart   = Person(  'Bart','Simpson',10) \n",
    "\n",
    "print(lisa.planet)\n",
    "print(bart.planet)"
   ]
  },
  {
   "cell_type": "code",
   "execution_count": null,
   "metadata": {
    "slideshow": {
     "slide_type": "-"
    }
   },
   "outputs": [],
   "source": [
    "# run the class method from the class itself\n",
    "Person.location('Moon')\n",
    "\n",
    "print(lisa.planet)\n",
    "print(bart.planet)"
   ]
  },
  {
   "cell_type": "code",
   "execution_count": null,
   "metadata": {
    "slideshow": {
     "slide_type": "slide"
    }
   },
   "outputs": [],
   "source": [
    "lisa   = Person(  'Lisa','Simpson', 8)  \n",
    "bart   = Person(  'Bart','Simpson',10) \n",
    "\n",
    "print(lisa.planet)\n",
    "print(bart.planet)"
   ]
  },
  {
   "cell_type": "code",
   "execution_count": null,
   "metadata": {
    "slideshow": {
     "slide_type": "-"
    }
   },
   "outputs": [],
   "source": [
    "# run the class method from an object\n",
    "lisa.location('Mars')\n",
    "\n",
    "print(lisa.planet)\n",
    "print(bart.planet)"
   ]
  },
  {
   "cell_type": "markdown",
   "metadata": {
    "slideshow": {
     "slide_type": "slide"
    }
   },
   "source": [
    "# static methods"
   ]
  },
  {
   "cell_type": "code",
   "execution_count": null,
   "metadata": {},
   "outputs": [],
   "source": [
    "class Person:                                       # class definition \n",
    "    '''class Person describes persons'''            # class documentation\n",
    "    \n",
    "    species = 'Home Sapiens'                        # class variables\n",
    "    planet  = 'Terra'                               #\n",
    "    \n",
    "    def __init__(self, first,last,age ):            # constructor\n",
    "        self.first = first                          # instance variables\n",
    "        self.last  = last                           #\n",
    "        self.age   = age                            #\n",
    "        \n",
    "    def identity(self):                             # instance method\n",
    "        '''displays the identity of a person'''     # method documentation\n",
    "        print(self.first,self.last,', age',self.age)\n",
    "        \n",
    "    @classmethod                                    # class method declarator \n",
    "    def location(cls,planet):                       # class method\n",
    "        '''modifies the class variable planet'''    # method documentation\n",
    "        cls.planet = planet\n",
    "        \n",
    "    @staticmethod                                   # static method declarator\n",
    "    def creator():                                  # static method\n",
    "        '''displays the Simpsons creator'''         # method documentation\n",
    "        print('Matt Groening')\n",
    "        "
   ]
  },
  {
   "cell_type": "markdown",
   "metadata": {
    "slideshow": {
     "slide_type": "slide"
    }
   },
   "source": [
    "* `creator()`: **static method**\n",
    "    * does not receive `self` of `cls`\n",
    "    * can return selfdoc by `help` or `?`"
   ]
  },
  {
   "cell_type": "code",
   "execution_count": null,
   "metadata": {},
   "outputs": [],
   "source": [
    "help(Person.creator)\n",
    "Person.creator?"
   ]
  },
  {
   "cell_type": "code",
   "execution_count": null,
   "metadata": {
    "slideshow": {
     "slide_type": "slide"
    }
   },
   "outputs": [],
   "source": [
    "lisa   = Person(  'Lisa','Simpson', 8)  \n",
    "bart   = Person(  'Bart','Simpson',10) \n",
    "\n",
    "lisa.creator()\n",
    "bart.creator()"
   ]
  },
  {
   "cell_type": "markdown",
   "metadata": {
    "slideshow": {
     "slide_type": "slide"
    }
   },
   "source": [
    "<img src=\"http://www.dropbox.com/s/fcucolyuzdjl80k/todo.jpg?raw=1\" width=\"10%\" align=\"right\">\n",
    "\n",
    "Add other methods and attributes to the `Person` class:\n",
    "\n",
    "* Add an **instance variable** for the time when an object is created.\n",
    "* Add an **instance method** accessing this instance variable.\n",
    "***\n",
    "* Add a **class variable** storing the time when the series began.\n",
    "* Add a **class method** accessing this class variable.\n",
    "***\n",
    "* Add a **static method** returning the current time."
   ]
  }
 ],
 "metadata": {
  "celltoolbar": "Slideshow",
  "kernelspec": {
   "display_name": "Python 3",
   "language": "python",
   "name": "python3"
  },
  "language_info": {
   "codemirror_mode": {
    "name": "ipython",
    "version": 3
   },
   "file_extension": ".py",
   "mimetype": "text/x-python",
   "name": "python",
   "nbconvert_exporter": "python",
   "pygments_lexer": "ipython3",
   "version": "3.8.3"
  }
 },
 "nbformat": 4,
 "nbformat_minor": 2
}
