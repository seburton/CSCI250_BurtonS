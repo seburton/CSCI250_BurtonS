{
 "cells": [
  {
   "cell_type": "markdown",
   "metadata": {
    "slideshow": {
     "slide_type": "slide"
    }
   },
   "source": [
    "<img src=\"https://www.mines.edu/webcentral/wp-content/uploads/sites/267/2019/02/horizontallightbackground.jpg\" width=\"100%\"> \n",
    "### CSCI250 Python Computing: Building a Sensor System\n",
    "<hr style=\"height:5px\" width=\"100%\" align=\"left\">\n",
    "\n",
    "# LAB: Morse code \n",
    "## Sam Burton\n",
    "### Department of Geophysical Engineering"
   ]
  },
  {
   "cell_type": "markdown",
   "metadata": {
    "heading_collapsed": true,
    "slideshow": {
     "slide_type": "slide"
    }
   },
   "source": [
    "# Introduction\n",
    "\n",
    "This goal for this lab is to use buttons and LEDs to output a message in Morse code in order to demonstrate basic digital inputs/outputs and GPIO functionality."
   ]
  },
  {
   "cell_type": "markdown",
   "metadata": {
    "hidden": true,
    "slideshow": {
     "slide_type": "slide"
    }
   },
   "source": [
    "<img src=\"https://www.dropbox.com/s/u628vjn2uc5h3ua/notebook.png?raw=1\" width=\"10%\" align=\"right\">\n",
    "\n",
    "Read through\n",
    "* the [GPIO notebook](h_GPIO.ipynb) to learn about the GPIO interface.\n",
    "* the [LED notebook](h_LED.ipynb) to learn about a simple digital output device.\n",
    "* the [button notebook](h_PushButton.ipynb) to learn about a simple digital input device.\n",
    "* the [string notebook](s_PyTypeString.ipynb) to learn about `string` methods.\n",
    "* the [dictionary notebook](s_PyTypeDict.ipynb) to learn about `dict` methods.\n",
    "* the [list notebook](s_PyTypeList.ipynb) to learn about `list` construction and use.\n",
    "\n",
    "**Build the circuits in all notebooks to ensure that everything works correctly.**"
   ]
  },
  {
   "cell_type": "markdown",
   "metadata": {
    "slideshow": {
     "slide_type": "skip"
    }
   },
   "source": [
    "# Pre-lab questions\n",
    "\n",
    "1. What do you always need to include in series with an LED and why?   \n",
    "    A resistor must be included because otherwise voltage that is too high will flow through the LED and it will heat up and break.\n",
    "2. What happens if you reverse the LED?   \n",
    "    The LED will not produce light.\n",
    "3. Write the line of code that turns on an LED.   \n",
    "    GPIO.output(ledPin, True)"
   ]
  },
  {
   "cell_type": "markdown",
   "metadata": {
    "execution": {
     "iopub.execute_input": "2020-08-14T03:43:39.429690Z",
     "iopub.status.busy": "2020-08-14T03:43:39.429690Z",
     "iopub.status.idle": "2020-08-14T03:43:39.437692Z",
     "shell.execute_reply": "2020-08-14T03:43:39.436691Z",
     "shell.execute_reply.started": "2020-08-14T03:43:39.429690Z"
    },
    "slideshow": {
     "slide_type": "skip"
    }
   },
   "source": [
    "1. What kind of resistor needs to be included with buttons and why?   \n",
    "    Pull-up/down resistors fix the floating state when the button is released. They balance the voltage in the circuit to keep it at a reasonable level depending on the condition of the button. In these buttons, there is an internal resistor.\n",
    "2. What happens if you rotate the button 90 degrees in the breadboard?   \n",
    "    The button pins are connected laterally (AC and BD), except when the button is pressed (then the two sides are connected). If the button is rotated, the circuit will not work.\n",
    "3. Write the line of code that measures the state of a button.  \n",
    "    GPIO.input(buttonPin)"
   ]
  },
  {
   "cell_type": "markdown",
   "metadata": {
    "slideshow": {
     "slide_type": "slide"
    }
   },
   "source": [
    "# Directions\n",
    "\n",
    "Your goal is to build a electronic circuit and write the code needed to make an LED output messages in Morse code when a button is pressed. \n",
    "\n",
    "Each button color should correspond to a specific message:\n",
    "* **Green**: \"Hello world\"\n",
    "* **Red**: \"SOS\"\n",
    "* **Blue**: \"The quick brown fox\"\n",
    "* **Yellow**: a string from `input()`"
   ]
  },
  {
   "cell_type": "markdown",
   "metadata": {
    "slideshow": {
     "slide_type": "slide"
    }
   },
   "source": [
    "# Resources\n",
    "\n",
    "Download the file `morse.py` from Canvas.\n",
    "\n",
    "It contains a Python `dict` of the Morse code.\n",
    "\n",
    "* Import the Morse code and store it in a `dict`.\n",
    "* Use a `string` variable to store the message.\n",
    "* Convert the message into Morse code via the dictionary.\n",
    "* Use correct timings for the Morse code signals. "
   ]
  },
  {
   "cell_type": "markdown",
   "metadata": {
    "slideshow": {
     "slide_type": "slide"
    }
   },
   "source": [
    "[Morse code](https://en.wikipedia.org/wiki/Morse_code) consists of `.` and `-` defined relative to a unit of time (U).\n",
    "\n",
    "`1U` is typically 0.1s, but for clarity **use 1s**:\n",
    "   * a **dot** is `1U`\n",
    "   * a **dash** is `3U`\n",
    "   * **signals** are separated by `1U`\n",
    "   * **characters** are separated by `3U`\n",
    "   * **words** are separated by `7U`"
   ]
  },
  {
   "cell_type": "markdown",
   "metadata": {
    "slideshow": {
     "slide_type": "slide"
    }
   },
   "source": [
    "To transmit the words **TO DO** use the Morse encoding\n",
    "* **T** is `-`\n",
    "* **O** is `---`\n",
    "* **D** is `-..`\n",
    "\n",
    "and then execute the following on/off sequence:\n",
    "\n",
    "* **T**:`3U` on\n",
    "\n",
    " `3U` off\n",
    "\n",
    "* **O**:`3U` on, `1U` off, `3U` on, `1U` off, `3U` on\n",
    "\n",
    " `7U` off\n",
    "\n",
    "* **D**:`3U` on, `1U` off, `1U` on, `1U` off, `1U` on \n",
    "\n",
    " `3U` off \n",
    "\n",
    "* **O**:`3U` on, `1U` off, `3U` on, `1U` off, `3U` on\n"
   ]
  },
  {
   "cell_type": "markdown",
   "metadata": {
    "slideshow": {
     "slide_type": "slide"
    }
   },
   "source": [
    "# Hints\n",
    "\n",
    "* Use `string` methods to remove unavailable characters.\n",
    "* Split the message into a `list` of words.\n",
    "* Loop over words; loop over characters.\n",
    "* Use `string` methods to capitalize characters.\n",
    "* Define functions for the `.` and `-` symbols sent via GPIO."
   ]
  },
  {
   "cell_type": "markdown",
   "metadata": {
    "slideshow": {
     "slide_type": "slide"
    }
   },
   "source": [
    "# Extra credit\n",
    "* Use a push button to pause the transmission of the signal."
   ]
  },
  {
   "cell_type": "markdown",
   "metadata": {
    "slideshow": {
     "slide_type": "slide"
    }
   },
   "source": [
    "# Starter code\n",
    "\n",
    "Use comments throughout your code so we can understand what it does. Even if you can't figure out how to write the code for something, a comment explaining what you wanted will get partial credit."
   ]
  },
  {
   "cell_type": "code",
   "execution_count": null,
   "metadata": {},
   "outputs": [],
   "source": [
    "# useful libraries\n",
    "import RPi.GPIO as GPIO\n",
    "import time\n",
    "\n",
    "\n",
    "# import the Morse code here\n",
    "import morse as mc\n",
    "morse = mc.code()"
   ]
  },
  {
   "cell_type": "code",
   "execution_count": null,
   "metadata": {},
   "outputs": [],
   "source": [
    "# set GPIO numbering \n",
    "GPIO.setmode(GPIO.BCM)"
   ]
  },
  {
   "cell_type": "code",
   "execution_count": null,
   "metadata": {},
   "outputs": [],
   "source": [
    "#setup buttons\n",
    "\n",
    "\n",
    "# the pin number (choose another pin if 27 is occupied by another device)\n",
    "############################################################################################# Graders: Below are the Button pin locations!\n",
    "\n",
    "\n",
    "redBut = 18\n",
    "blueBut = 19\n",
    "greenBut = 20\n",
    "yelBut = 21\n",
    "\n",
    "\n",
    "\n",
    "# make buttons their own vector\n",
    "Buttons = [redBut, blueBut, greenBut, yelBut]\n",
    "\n",
    "#iterate through buttons vector to assign 0 to unpressed\n",
    "for i in Buttons:\n",
    "    GPIO.setup(i, GPIO.IN, pull_up_down = GPIO.PUD_DOWN) #button 0 when unpressed"
   ]
  },
  {
   "cell_type": "code",
   "execution_count": null,
   "metadata": {},
   "outputs": [],
   "source": [
    "#setup LEDs\n",
    "\n",
    "\n",
    "# assign a variable for the pin number\n",
    "################################################################################################ Graders: Below are the LED pin locations!\n",
    "\n",
    "\n",
    "redLED = 17\n",
    "blueLED = 16\n",
    "greenLED = 13\n",
    "yelLED = 12\n",
    "\n",
    "\n",
    "\n",
    "#make vector of LED pin locations\n",
    "LEDs = [redLED, blueLED, greenLED, yelLED]\n",
    "\n",
    "#Iterate through LED pins to set output stream and on/off states\n",
    "for i in LEDs :\n",
    "    GPIO.setup(i, GPIO.OUT)\n",
    "    GPIO.output(i, True)\n",
    "    GPIO.output(i, False)"
   ]
  },
  {
   "cell_type": "code",
   "execution_count": null,
   "metadata": {},
   "outputs": [],
   "source": [
    "# store your messages\n",
    "greenMes = \"Hello world\"\n",
    "redMes = \"SOS\"\n",
    "blueMes = \"The quick brown fox\"\n",
    "\n",
    "#yellow message is input by user\n",
    "yelMes = ''\n",
    "print (\"Input a message to see in Morse Code: \" )\n",
    "yelMes = input()\n",
    "\n",
    "#store messages in vector\n",
    "messages = [redMes, blueMes, greenMes, yelMes]\n",
    "\n",
    "\n",
    "#make vector of unwanted characters (punctuation)\n",
    "unwanted = ['!','\"','#','$','%','&',\"'\",'(',')','*','+',',','-','.','/',':',';','<','=','>','?','@','[',']','^','_','`','{','|','}','~']\n",
    "\n",
    "#make all messages uppercase\n",
    "for i in range(len(messages)):\n",
    "    messages[i] = messages[i].upper()\n",
    "    \n",
    "    #remove unwanted characters \n",
    "    for j in range(len(unwanted)) :\n",
    "        if  (unwanted[j]) in messages[i]:\n",
    "            messages[i] = messages[i].replace(unwanted[j],'')\n",
    "\n",
    "    \n"
   ]
  },
  {
   "cell_type": "code",
   "execution_count": null,
   "metadata": {},
   "outputs": [],
   "source": [
    "#make functions for each morse code character\n",
    "\n",
    "#originally I coded this to be 1 second instead of 1 U, but this felt unbearably slow so I changed it to standard morse code timing (as noted in lab instructions)\n",
    "#TA approved of this decision\n",
    "\n",
    "def dash(LED):\n",
    "    GPIO.output(LED, True)\n",
    "    time.sleep(0.3)\n",
    "    GPIO.output(LED, False)\n",
    "    time.sleep(0.3)\n",
    "\n",
    "\n",
    "def dot(LED):\n",
    "    GPIO.output(LED, True)\n",
    "    time.sleep(0.1)\n",
    "    GPIO.output(LED, False)\n",
    "    time.sleep(0.3)\n",
    "\n",
    "\n",
    "def space(LED):\n",
    "    GPIO.output(LED, False)\n",
    "    #sleep for 4 because it already slept for 3 and 3+4=7\n",
    "    time.sleep(0.4)"
   ]
  },
  {
   "cell_type": "code",
   "execution_count": null,
   "metadata": {},
   "outputs": [],
   "source": [
    "#make function to read messages and print them as it goes (decision to print letters individually approved by TA's)\n",
    "\n",
    "def readMessage(message, LED):\n",
    "    \n",
    "    #break message into word array\n",
    "    words = message.split()\n",
    "    \n",
    "    #for each word\n",
    "    for i in range(len(words)):\n",
    "        word = words[i]\n",
    "        \n",
    "        #for each letter\n",
    "        for j in range(len(word)):\n",
    "            \n",
    "            #print each letter in morse\n",
    "            mletter = morse[word[j]]\n",
    "            print(word[j] + \" \" + mletter)\n",
    "\n",
    "            #for each character in morse\n",
    "            for k in range(len(mletter)):\n",
    "                #signal character\n",
    "                mchar = mletter[k]\n",
    "                #if morse char is dot, use dot()\n",
    "                if mchar == '.':\n",
    "                    dot(LED)\n",
    "                    \n",
    "                #if morse char is dash, use dash()\n",
    "                if mchar == '-':\n",
    "                    dash(LED)\n",
    "\n",
    "        #print a space\n",
    "        print(\" \")\n",
    "        space(LED)"
   ]
  },
  {
   "cell_type": "code",
   "execution_count": null,
   "metadata": {},
   "outputs": [],
   "source": [
    "#while code is running\n",
    "running = True\n",
    "while running == True :\n",
    "    \n",
    "    #check all the buttons, and if one of them is pressed read the message\n",
    "    for i in range(len(Buttons)):\n",
    "        if GPIO.input(Buttons[i]) == True :\n",
    "            readMessage(messages[i],LEDs[i])\n",
    "        "
   ]
  },
  {
   "cell_type": "markdown",
   "metadata": {
    "slideshow": {
     "slide_type": "skip"
    }
   },
   "source": [
    "# Post lab\n",
    "\n",
    "<img src=\"http://www.dropbox.com/s/fcucolyuzdjl80k/todo.jpg?raw=1\" width=\"10%\" align=\"right\">\n",
    "\n",
    "Before you submit the lab, make sure everything works as you expect by restarting the kernel: select **Kernel > Restart & Run All**.\n",
    "\n",
    "Answer the following questions.\n",
    "\n",
    "1. What elements of this lab did you find easy/challenging?\n",
    "    * I found it challenging to learn how to build the circuit because I forgot everything I learned about breadboards in Physics 2, but the notebooks on buttons and LED's were extremely helpful. I found it easier than expected to learn how to code GPIO input and output streams, and I would accredit that to all the practice I had coding input and output streams in CSCI200. I also had some help building the circuit from a friend in Section A.\n",
    "2. What did you like/dislike about this lab?\n",
    "    * I enjoyed this lab, but it was difficult. I wouldn't say there is anything I disliked about it. I enjoyed when I finally had success building the circuit.\n",
    "3. If you did anything worthy of extra credit, tell us about it here!\n",
    "    * It feels like a bit of a stretch to say this is worthy of extra credit, but I did add a couple of statements which print the message letters and morse code counterparts together as the message is being signaled on the LEDs because it makes the messages much easier to understand. Note: for this to work properly sometimes all cells have to run (Restart Kernel and Run All Cells)."
   ]
  },
  {
   "cell_type": "markdown",
   "metadata": {
    "slideshow": {
     "slide_type": "skip"
    }
   },
   "source": [
    "# Submit\n",
    "* Make sure to update your name and department in the top markdown cell.\n",
    "\n",
    "* Rename the Jupyter notebook with the following convention:\n",
    "**HL?-FirstLast.ipynb** (replace ? with the lab number)\n",
    "\n",
    "* Turn in your Jupyter notebook on Canvas. Email submissions don't count.\n",
    "\n",
    "* Include pictures of all the circuits you made."
   ]
  },
  {
   "cell_type": "markdown",
   "metadata": {},
   "source": [
    "Below is an image of the first button circuit I used when I was learning how to do this lab.  \n",
    "<img src=\"https://github.com/seburton/CSCI250_BurtonS/blob/main/20230913_113517.jpg?raw=true\" width = 30%>\n",
    "\n",
    "\n",
    "Below is an image of the first double-button circuit I used to learn how to do this lab.  \n",
    "<img src=\"https://github.com/seburton/CSCI250_BurtonS/blob/main/20230913_114918.jpg?raw=true\" width = 30%>\n",
    "\n",
    "\n",
    "Below is an image of the first button and light setup I made for this lab.  \n",
    "<img src=\"https://github.com/seburton/CSCI250_BurtonS/blob/main/20230914_170036.jpg?raw=true\" width = 30%>\n",
    "\n",
    "\n",
    "Finally, below is an image of the full circuit I used to complete this lab.  \n",
    "<img src=\"https://github.com/seburton/CSCI250_BurtonS/blob/main/20230914_185036.jpg?raw=true\" width = 80%>\n",
    "\n",
    "\n",
    "\n"
   ]
  },
  {
   "cell_type": "markdown",
   "metadata": {
    "slideshow": {
     "slide_type": "slide"
    }
   },
   "source": [
    "# Honor code\n",
    "Unless explicitly specified, labs are **individual exercises**. Your submission is subject to the [**Mines Honor Code**](http://inside.mines.edu/~epoeter/_GW/CSMHonorCodeUndergradHandbook.pdf)."
   ]
  }
 ],
 "metadata": {
  "celltoolbar": "Slideshow",
  "kernelspec": {
   "display_name": "Python 3 (ipykernel)",
   "language": "python",
   "name": "python3"
  },
  "language_info": {
   "codemirror_mode": {
    "name": "ipython",
    "version": 3
   },
   "file_extension": ".py",
   "mimetype": "text/x-python",
   "name": "python",
   "nbconvert_exporter": "python",
   "pygments_lexer": "ipython3",
   "version": "3.9.13"
  },
  "varInspector": {
   "cols": {
    "lenName": 16,
    "lenType": 16,
    "lenVar": 40
   },
   "kernels_config": {
    "python": {
     "delete_cmd_postfix": "",
     "delete_cmd_prefix": "del ",
     "library": "var_list.py",
     "varRefreshCmd": "print(var_dic_list())"
    },
    "r": {
     "delete_cmd_postfix": ") ",
     "delete_cmd_prefix": "rm(",
     "library": "var_list.r",
     "varRefreshCmd": "cat(var_dic_list()) "
    }
   },
   "types_to_exclude": [
    "module",
    "function",
    "builtin_function_or_method",
    "instance",
    "_Feature"
   ],
   "window_display": false
  }
 },
 "nbformat": 4,
 "nbformat_minor": 4
}
