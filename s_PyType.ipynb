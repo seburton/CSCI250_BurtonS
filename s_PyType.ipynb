{
 "cells": [
  {
   "cell_type": "markdown",
   "metadata": {},
   "source": [
    "<img src=\"https://www.mines.edu/webcentral/wp-content/uploads/sites/267/2019/02/horizontallightbackground.jpg\" width=\"100%\"> \n",
    "### CSCI250 Python Computing: Building a Sensor System\n",
    "<hr style=\"height:5px\" width=\"100%\" align=\"left\">\n",
    "\n",
    "# Python data types"
   ]
  },
  {
   "cell_type": "markdown",
   "metadata": {
    "slideshow": {
     "slide_type": "slide"
    }
   },
   "source": [
    "# Objectives\n",
    "* introduce **basic** and **compound** data types\n",
    "* discuss mechanisms to access data info"
   ]
  },
  {
   "cell_type": "markdown",
   "metadata": {
    "slideshow": {
     "slide_type": "slide"
    }
   },
   "source": [
    "# Resources\n",
    "* [Python introduction](https://docs.python.org/3/tutorial/introduction.html#numbers)\n",
    "* [Programiz Python tutorial](https://www.programiz.com/python-programming/numbers)"
   ]
  },
  {
   "cell_type": "markdown",
   "metadata": {
    "slideshow": {
     "slide_type": "slide"
    }
   },
   "source": [
    "# Data attributes\n",
    "Every Python object, including various number types, has \n",
    "* an **identity**\n",
    "* a **type**\n",
    "* a **value**"
   ]
  },
  {
   "cell_type": "markdown",
   "metadata": {
    "slideshow": {
     "slide_type": "slide"
    }
   },
   "source": [
    "## data identity\n",
    "On object's **identity** does not change - it  is its address in memory\n",
    "\n",
    "* the `id` function returns an integer representing its identity\n",
    "* the `is` operator compares the identity of two objects \n"
   ]
  },
  {
   "cell_type": "code",
   "execution_count": 3,
   "metadata": {
    "ExecuteTime": {
     "end_time": "2020-08-05T22:07:47.982034Z",
     "start_time": "2020-08-05T22:07:47.979033Z"
    },
    "slideshow": {
     "slide_type": "slide"
    }
   },
   "outputs": [
    {
     "name": "stdout",
     "output_type": "stream",
     "text": [
      "id(a)= 2225942554352\n"
     ]
    }
   ],
   "source": [
    "a = 2.0\n",
    "print('id(a)=',id(a))"
   ]
  },
  {
   "cell_type": "code",
   "execution_count": 2,
   "metadata": {
    "ExecuteTime": {
     "end_time": "2020-08-05T22:07:47.982034Z",
     "start_time": "2020-08-05T22:07:47.979033Z"
    },
    "slideshow": {
     "slide_type": "-"
    }
   },
   "outputs": [
    {
     "name": "stdout",
     "output_type": "stream",
     "text": [
      "id(a)= 2225942554128\n"
     ]
    }
   ],
   "source": [
    "a = 4.0\n",
    "print('id(a)=',id(a))"
   ]
  },
  {
   "cell_type": "code",
   "execution_count": 4,
   "metadata": {
    "ExecuteTime": {
     "end_time": "2020-08-05T22:07:54.023339Z",
     "start_time": "2020-08-05T22:07:54.019837Z"
    },
    "slideshow": {
     "slide_type": "slide"
    }
   },
   "outputs": [
    {
     "name": "stdout",
     "output_type": "stream",
     "text": [
      "id(a)= 2225942554352\n",
      "id(b)= 2225942555120\n"
     ]
    }
   ],
   "source": [
    "b = 2.0\n",
    "\n",
    "print('id(a)=',id(a))\n",
    "print('id(b)=',id(b))"
   ]
  },
  {
   "cell_type": "code",
   "execution_count": null,
   "metadata": {
    "ExecuteTime": {
     "end_time": "2020-08-05T22:07:54.889383Z",
     "start_time": "2020-08-05T22:07:54.886883Z"
    },
    "slideshow": {
     "slide_type": "-"
    }
   },
   "outputs": [],
   "source": [
    "print('b is a?',b is a)"
   ]
  },
  {
   "cell_type": "code",
   "execution_count": null,
   "metadata": {
    "ExecuteTime": {
     "end_time": "2020-08-05T22:08:02.523373Z",
     "start_time": "2020-08-05T22:08:02.519374Z"
    },
    "slideshow": {
     "slide_type": "slide"
    }
   },
   "outputs": [],
   "source": [
    "c = a\n",
    "\n",
    "print('id(a)=',id(a))\n",
    "print('id(c)=',id(c))"
   ]
  },
  {
   "cell_type": "code",
   "execution_count": null,
   "metadata": {
    "ExecuteTime": {
     "end_time": "2020-08-05T22:08:04.744034Z",
     "start_time": "2020-08-05T22:08:04.741533Z"
    },
    "slideshow": {
     "slide_type": "-"
    }
   },
   "outputs": [],
   "source": [
    "print('c is a?',c is a)"
   ]
  },
  {
   "cell_type": "markdown",
   "metadata": {
    "slideshow": {
     "slide_type": "slide"
    }
   },
   "source": [
    "## data type\n",
    "An object’s type does not change - it determines supported operations\n",
    "  * the `type()` function returns an object’s type. "
   ]
  },
  {
   "cell_type": "code",
   "execution_count": 5,
   "metadata": {
    "slideshow": {
     "slide_type": "slide"
    }
   },
   "outputs": [
    {
     "name": "stdout",
     "output_type": "stream",
     "text": [
      "type(a)= <class 'int'>\n"
     ]
    }
   ],
   "source": [
    "a = 3\n",
    "\n",
    "print('type(a)=',type(a))"
   ]
  },
  {
   "cell_type": "code",
   "execution_count": null,
   "metadata": {
    "scrolled": false,
    "slideshow": {
     "slide_type": "-"
    }
   },
   "outputs": [],
   "source": [
    "b = 0.14\n",
    "\n",
    "print('type(b)',type(b))"
   ]
  },
  {
   "cell_type": "code",
   "execution_count": null,
   "metadata": {
    "slideshow": {
     "slide_type": "-"
    }
   },
   "outputs": [],
   "source": [
    "# check if a number is of a specific type\n",
    "c = a + b\n",
    "\n",
    "if type(c) is float:\n",
    "    print(c,'is a float')"
   ]
  },
  {
   "cell_type": "markdown",
   "metadata": {
    "slideshow": {
     "slide_type": "slide"
    }
   },
   "source": [
    "## data value\n",
    "The **value** of some objects can change. \n",
    "* **mutable** objects: values can change  \n",
    "    * `list`, `set`, `dict`\n",
    "* **immutable** objects: values cannot change \n",
    "    * `int`, `float`, `bool`, `str`, `tuple`"
   ]
  },
  {
   "cell_type": "code",
   "execution_count": 6,
   "metadata": {
    "slideshow": {
     "slide_type": "slide"
    }
   },
   "outputs": [
    {
     "name": "stdout",
     "output_type": "stream",
     "text": [
      "2225859160656\n",
      "2225859160688\n"
     ]
    }
   ],
   "source": [
    "# immutable int\n",
    "\n",
    "i = 10\n",
    "print( id(i) )\n",
    "i += 1\n",
    "print( id(i) )"
   ]
  },
  {
   "cell_type": "code",
   "execution_count": 7,
   "metadata": {
    "slideshow": {
     "slide_type": "-"
    }
   },
   "outputs": [
    {
     "name": "stdout",
     "output_type": "stream",
     "text": [
      "2225942554128\n",
      "2225942554352\n"
     ]
    }
   ],
   "source": [
    "# immutable float\n",
    "\n",
    "f = 3.14\n",
    "print( id(f) )\n",
    "f /= 2\n",
    "print( id(f) )"
   ]
  },
  {
   "cell_type": "code",
   "execution_count": 8,
   "metadata": {
    "slideshow": {
     "slide_type": "slide"
    }
   },
   "outputs": [
    {
     "name": "stdout",
     "output_type": "stream",
     "text": [
      "[1.0, 2.0, 3.0]\n",
      "2225942941952\n",
      "2225942554544\n"
     ]
    }
   ],
   "source": [
    "# mutable list\n",
    "\n",
    "l = [1.,2.,3.]\n",
    "print(l)\n",
    "print( id(l) )     # id of the list\n",
    "print( id(l[0]) )  # id of an element of the list"
   ]
  },
  {
   "cell_type": "code",
   "execution_count": 9,
   "metadata": {},
   "outputs": [
    {
     "name": "stdout",
     "output_type": "stream",
     "text": [
      "[9.0, 2.0, 3.0]\n",
      "2225942941952\n",
      "2225942555568\n"
     ]
    }
   ],
   "source": [
    "l[0] = 9.\n",
    "print(l)\n",
    "print( id(l) )    # id of the list\n",
    "print( id(l[0]) ) # id of an element of the list"
   ]
  },
  {
   "cell_type": "markdown",
   "metadata": {
    "slideshow": {
     "slide_type": "slide"
    }
   },
   "source": [
    "# documentation\n",
    "\n",
    "Each data type has associated methods. \n",
    "\n",
    "Jupyter notebooks allow access to methods: type the variable name, followed by a dot, and then press **TAB** to see a list of available methods.\n",
    "\n",
    "We can obtain help about the use of the method with the `help()` command or by typing the name of the function followed by `?`."
   ]
  },
  {
   "cell_type": "code",
   "execution_count": 13,
   "metadata": {},
   "outputs": [],
   "source": [
    "int.as_integer_ratio?"
   ]
  },
  {
   "cell_type": "code",
   "execution_count": 11,
   "metadata": {},
   "outputs": [
    {
     "ename": "SyntaxError",
     "evalue": "invalid syntax (3515812798.py, line 1)",
     "output_type": "error",
     "traceback": [
      "\u001b[1;36m  File \u001b[1;32m\"C:\\Users\\sammb\\AppData\\Local\\Temp\\ipykernel_916\\3515812798.py\"\u001b[1;36m, line \u001b[1;32m1\u001b[0m\n\u001b[1;33m    list.\u001b[0m\n\u001b[1;37m         ^\u001b[0m\n\u001b[1;31mSyntaxError\u001b[0m\u001b[1;31m:\u001b[0m invalid syntax\n"
     ]
    }
   ],
   "source": [
    "list."
   ]
  },
  {
   "cell_type": "markdown",
   "metadata": {
    "slideshow": {
     "slide_type": "slide"
    }
   },
   "source": [
    "# Data categories\n",
    "\n",
    "Python data types can be of two main categories:\n",
    "  * **basic** - represent individual elements\n",
    "  * **compound** - represent groups of elements"
   ]
  },
  {
   "cell_type": "markdown",
   "metadata": {
    "slideshow": {
     "slide_type": "slide"
    }
   },
   "source": [
    "## Basic types\n",
    "\n",
    "Basic types, i.e. **numbers**, can be of different kinds:\n",
    "* `int`\n",
    "* `float`\n",
    "* `bool`\n",
    "* `complex`"
   ]
  },
  {
   "cell_type": "code",
   "execution_count": null,
   "metadata": {
    "slideshow": {
     "slide_type": "slide"
    }
   },
   "outputs": [],
   "source": [
    "# int type\n",
    "a = 2\n",
    "\n",
    "# float type\n",
    "b = 3.0\n",
    "\n",
    "# bool type\n",
    "c = a==b\n",
    "\n",
    "# complex type\n",
    "d = 2 + 3j\n",
    "\n",
    "print('    int:',a)\n",
    "print('  float:',b)\n",
    "print('   bool:',c)\n",
    "print('complex:',d)"
   ]
  },
  {
   "cell_type": "markdown",
   "metadata": {
    "slideshow": {
     "slide_type": "slide"
    }
   },
   "source": [
    "<img src=\"https://www.dropbox.com/s/u628vjn2uc5h3ua/notebook.png?raw=1\" width=\"10%\" align=\"right\">\n",
    "\n",
    "See the [numbers notebook](s_PyTypeNumbers.ipynb) to get more info."
   ]
  },
  {
   "cell_type": "markdown",
   "metadata": {
    "slideshow": {
     "slide_type": "slide"
    }
   },
   "source": [
    "## Compound types\n",
    "\n",
    "Compound types group multiple items into a single data structure.\n",
    "\n",
    "Every compound type has its specific associated methods."
   ]
  },
  {
   "cell_type": "code",
   "execution_count": null,
   "metadata": {
    "slideshow": {
     "slide_type": "slide"
    }
   },
   "outputs": [],
   "source": [
    "a = 'this is a string'\n",
    "b = ['this','is','a','list']\n",
    "c = 'this','is','a','tuple'\n",
    "d = dict(k0='this',k1='is',k2='a',k3='dictionary')\n",
    "e = {'this','is','a','set'}\n",
    "\n",
    "print('string:',a)\n",
    "print('  list:',b)\n",
    "print(' tuple:',c)\n",
    "print('  dict:',d)\n",
    "print('   set:',e)"
   ]
  },
  {
   "cell_type": "markdown",
   "metadata": {
    "slideshow": {
     "slide_type": "slide"
    }
   },
   "source": [
    "<img src=\"https://www.dropbox.com/s/u628vjn2uc5h3ua/notebook.png?raw=1\" width=\"10%\" align=\"right\">\n",
    "\n",
    "See the compound type notebooks to get more info.\n",
    "* `string`  [notebook](s_PyTypeString.ipynb) \n",
    "* `list`    [notebook](s_PyTypeList.ipynb)\n",
    "* `tuple`   [notebook](s_PyTypeTuple.ipynb) \n",
    "* `dict`    [notebook](s_PyTypeDict.ipynb)\n",
    "* `set`     [notebook](s_PyTypeSet.ipynb)"
   ]
  }
 ],
 "metadata": {
  "celltoolbar": "Slideshow",
  "kernelspec": {
   "display_name": "Python 3 (ipykernel)",
   "language": "python",
   "name": "python3"
  },
  "language_info": {
   "codemirror_mode": {
    "name": "ipython",
    "version": 3
   },
   "file_extension": ".py",
   "mimetype": "text/x-python",
   "name": "python",
   "nbconvert_exporter": "python",
   "pygments_lexer": "ipython3",
   "version": "3.9.13"
  },
  "varInspector": {
   "cols": {
    "lenName": 16,
    "lenType": 16,
    "lenVar": 40
   },
   "kernels_config": {
    "python": {
     "delete_cmd_postfix": "",
     "delete_cmd_prefix": "del ",
     "library": "var_list.py",
     "varRefreshCmd": "print(var_dic_list())"
    },
    "r": {
     "delete_cmd_postfix": ") ",
     "delete_cmd_prefix": "rm(",
     "library": "var_list.r",
     "varRefreshCmd": "cat(var_dic_list()) "
    }
   },
   "types_to_exclude": [
    "module",
    "function",
    "builtin_function_or_method",
    "instance",
    "_Feature"
   ],
   "window_display": false
  }
 },
 "nbformat": 4,
 "nbformat_minor": 2
}
