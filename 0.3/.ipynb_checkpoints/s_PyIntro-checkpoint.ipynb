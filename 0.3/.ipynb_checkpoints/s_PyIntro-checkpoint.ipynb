{
 "cells": [
  {
   "cell_type": "markdown",
   "metadata": {
    "slideshow": {
     "slide_type": "slide"
    }
   },
   "source": [
    "<img src=\"https://www.mines.edu/webcentral/wp-content/uploads/sites/267/2019/02/horizontallightbackground.jpg\" width=\"100%\"> \n",
    "### CSCI250 Python Computing: Building a Sensor System\n",
    "<hr style=\"height:5px\" width=\"100%\" align=\"left\">\n",
    "\n",
    "# Python introduction"
   ]
  },
  {
   "cell_type": "markdown",
   "metadata": {
    "slideshow": {
     "slide_type": "slide"
    }
   },
   "source": [
    "# Objectives\n",
    "* introduce the **Python programming language**\n",
    "* learn how to access **Python documentation**\n",
    "\n",
    "<img src=\"https://www.python.org/static/img/python-logo@2x.png\" width=100% align=\"left\">"
   ]
  },
  {
   "cell_type": "markdown",
   "metadata": {
    "slideshow": {
     "slide_type": "slide"
    }
   },
   "source": [
    "# Resources\n",
    "\n",
    "* [Python introduction](https://docs.python.org/3/tutorial)\n",
    "* [Beginner's Guide](https://wiki.python.org/moin/BeginnersGuide)\n",
    "* [Developer's guide](https://devguide.python.org)\n",
    "* [Standard Libraries](https://docs.python.org/3/library)\n",
    "* [Programiz Python tutorial](https://www.programiz.com/python-programming/tutorial)"
   ]
  },
  {
   "cell_type": "markdown",
   "metadata": {
    "slideshow": {
     "slide_type": "slide"
    }
   },
   "source": [
    "# What is Python?\n",
    "An **open-source**, **cross-platform**, **high-level**, **interpreted** language.\n",
    "\n",
    "It is designed for scripting and rapid prototyping. \n",
    "\n",
    "***\n",
    "\n",
    "It's creator [Guido van Rossum](https://gvanrossum.github.io) wrote Python as \n",
    "* a bridge between the shell and C, and\n",
    "* a tool for teaching introductory programming. \n",
    "\n",
    "Python has many extensions that make it **powerful**, yet still **versatile**."
   ]
  },
  {
   "cell_type": "markdown",
   "metadata": {
    "slideshow": {
     "slide_type": "slide"
    }
   },
   "source": [
    "# Python characteristics\n",
    "1. **open-source**: its source code is available freely and entirely, *unlike* proprietary languages whose source code is not public.\n",
    "2. **cross-platform**: is available on many operating systems, *unlike* programming languages that are designed for certain platforms.\n",
    "3. **high-level**: is characterized by abstraction from the platform, *unlike* low-level languages that relate closely to hardware.\n",
    "4. **interpreted**: executes instructions directly, *unlike* compiled languages that generate machine code before execution."
   ]
  },
  {
   "cell_type": "markdown",
   "metadata": {
    "slideshow": {
     "slide_type": "slide"
    }
   },
   "source": [
    "# Language paradigms\n",
    "\n",
    "* **Interpreted** languages: \n",
    "    * commands are executed directly by an interpreter\n",
    "    * faster development, but slower execution\n",
    "    * e.g. Python, Ruby, JavaScript...\n",
    "\n",
    "* **Compiled** languages: \n",
    "    * commands are translated into machine code by a compiler\n",
    "    * slower development, but faster execution\n",
    "    * e.g. C, C++, Fortran,..."
   ]
  },
  {
   "cell_type": "markdown",
   "metadata": {
    "slideshow": {
     "slide_type": "slide"
    }
   },
   "source": [
    "# Why use Python?\n",
    "\n",
    "* **simple code**: the language syntax and program structure are easy to read and understand\n",
    "\n",
    "* **extensible code**: users can add modules and functions to expand the functionality of the interpreter \n",
    "\n",
    "* **compact code**: variable declarations are not necessary; statement grouping is done by indentation"
   ]
  },
  {
   "cell_type": "code",
   "execution_count": null,
   "metadata": {},
   "outputs": [],
   "source": [
    "print( \"Hello world!\" )"
   ]
  },
  {
   "cell_type": "markdown",
   "metadata": {
    "slideshow": {
     "slide_type": "slide"
    }
   },
   "source": [
    "# Python libraries\n",
    "\n",
    "* **Built-in commands** define basic functionality\n",
    "* **extensions** and **libraries** add advanced functionality:\n",
    "    * `numpy`, `scipy`, `pyplot`,...\n",
    "\n",
    "It is one of the [fastest-growing programming languages](https://stackoverflow.blog/2017/09/06/incredible-growth-python/). "
   ]
  },
  {
   "cell_type": "markdown",
   "metadata": {
    "slideshow": {
     "slide_type": "slide"
    }
   },
   "source": [
    "# Python version\n",
    "\n",
    "Explore in a computer terminal using the commands:\n",
    "\n",
    "`which python`\n",
    "\n",
    "and \n",
    "\n",
    "`python -V`\n",
    " ***\n",
    "We will use **Python 3**\n",
    "* check that `python -V` returns `Python 3.*.*`."
   ]
  },
  {
   "cell_type": "markdown",
   "metadata": {
    "slideshow": {
     "slide_type": "slide"
    }
   },
   "source": [
    "# Python style \n",
    "* Blocks of code are defined by **indentation** (not delimiters). \n",
    "\n",
    "* Indent by **4 white spaces** (not **TAB**) for great nesting depth. \n",
    "\n",
    "* Use spaces around operators and after commas.\n",
    "\n",
    "**N.B.**: [Jupyter](./info/__Jupyter.ipynb) notebooks recognize Python syntax and indentation."
   ]
  },
  {
   "cell_type": "code",
   "execution_count": null,
   "metadata": {},
   "outputs": [],
   "source": [
    "for i in range( 10 ):\n",
    "    print( i, end=' ')\n",
    "\n",
    "print('')\n",
    "print(\"on to the next thing\")"
   ]
  },
  {
   "cell_type": "markdown",
   "metadata": {
    "slideshow": {
     "slide_type": "slide"
    }
   },
   "source": [
    "# Python comments\n",
    "\n",
    "**Comment code extensively** using `#` to facilitate \n",
    "* code **transfer**\n",
    "* code **reproducibility**\n",
    "* code **reusability**"
   ]
  },
  {
   "cell_type": "code",
   "execution_count": null,
   "metadata": {
    "slideshow": {
     "slide_type": "-"
    }
   },
   "outputs": [],
   "source": [
    "# this is a comment\n",
    "x = 0 # this is also a comment\n",
    "\n",
    "# this is\n",
    "# a long comment\n",
    "# on multiple lines"
   ]
  },
  {
   "cell_type": "markdown",
   "metadata": {
    "slideshow": {
     "slide_type": "slide"
    }
   },
   "source": [
    "# Python `keywords`\n",
    "Are core language constructs - define the language itself."
   ]
  },
  {
   "cell_type": "code",
   "execution_count": null,
   "metadata": {},
   "outputs": [],
   "source": [
    "import keyword\n",
    "print( keyword.kwlist )"
   ]
  },
  {
   "cell_type": "markdown",
   "metadata": {
    "slideshow": {
     "slide_type": "slide"
    }
   },
   "source": [
    "# Python `builtins`\n",
    "Represent commonly used and preloaded \n",
    "* **functions**\n",
    "* **constants** \n",
    "* **types** \n",
    "* **exceptions**"
   ]
  },
  {
   "cell_type": "code",
   "execution_count": null,
   "metadata": {
    "slideshow": {
     "slide_type": "slide"
    }
   },
   "outputs": [],
   "source": [
    "import builtins\n",
    "print( dir(builtins) )"
   ]
  },
  {
   "cell_type": "markdown",
   "metadata": {
    "slideshow": {
     "slide_type": "slide"
    }
   },
   "source": [
    "# Python documentation\n",
    "\n",
    "The function `help()` displays documentation below a code cell. "
   ]
  },
  {
   "cell_type": "code",
   "execution_count": null,
   "metadata": {
    "slideshow": {
     "slide_type": "-"
    }
   },
   "outputs": [],
   "source": [
    "help(help)"
   ]
  },
  {
   "cell_type": "markdown",
   "metadata": {
    "slideshow": {
     "slide_type": "slide"
    }
   },
   "source": [
    "# help on `keywords`\n",
    "\n",
    "Call `help()` with the keyword argument in quotes."
   ]
  },
  {
   "cell_type": "code",
   "execution_count": null,
   "metadata": {},
   "outputs": [],
   "source": [
    "help('def')"
   ]
  },
  {
   "cell_type": "markdown",
   "metadata": {
    "slideshow": {
     "slide_type": "slide"
    }
   },
   "source": [
    "# help on `builtins`\n",
    "\n",
    "Call `help()` with the builtin argument without quotes.\n",
    "\n",
    "Can also get help by calling the built-in followed by `?`. \n",
    "\n",
    "**NB**: `?` cannot be followed by spaces or comments."
   ]
  },
  {
   "cell_type": "code",
   "execution_count": null,
   "metadata": {
    "scrolled": true,
    "slideshow": {
     "slide_type": "slide"
    }
   },
   "outputs": [],
   "source": [
    "help(print)"
   ]
  },
  {
   "cell_type": "code",
   "execution_count": null,
   "metadata": {
    "slideshow": {
     "slide_type": "-"
    }
   },
   "outputs": [],
   "source": [
    "print?"
   ]
  },
  {
   "cell_type": "code",
   "execution_count": null,
   "metadata": {
    "slideshow": {
     "slide_type": "slide"
    }
   },
   "outputs": [],
   "source": [
    "help(FloatingPointError)"
   ]
  },
  {
   "cell_type": "code",
   "execution_count": null,
   "metadata": {
    "slideshow": {
     "slide_type": "-"
    }
   },
   "outputs": [],
   "source": [
    "FloatingPointError?"
   ]
  },
  {
   "cell_type": "markdown",
   "metadata": {
    "slideshow": {
     "slide_type": "slide"
    }
   },
   "source": [
    "# Basic output: `print()`\n",
    "Displays to screen the values of one or more variables."
   ]
  },
  {
   "cell_type": "code",
   "execution_count": null,
   "metadata": {
    "slideshow": {
     "slide_type": "-"
    }
   },
   "outputs": [],
   "source": [
    "# get help\n",
    "print?\n",
    "\n",
    "print(\"Hello world!\")"
   ]
  },
  {
   "cell_type": "markdown",
   "metadata": {
    "slideshow": {
     "slide_type": "slide"
    }
   },
   "source": [
    "# Basic input: `input()`\n",
    "Reads a string from the command prompt."
   ]
  },
  {
   "cell_type": "code",
   "execution_count": null,
   "metadata": {
    "scrolled": true,
    "slideshow": {
     "slide_type": "-"
    }
   },
   "outputs": [],
   "source": [
    "# get help\n",
    "input?\n",
    "\n",
    "name = input('What is your name?')\n",
    "print('Hello',name,'!')"
   ]
  },
  {
   "cell_type": "markdown",
   "metadata": {
    "slideshow": {
     "slide_type": "slide"
    }
   },
   "source": [
    "# Python identifiers\n",
    "\n",
    "Names given to  entities: **classes**, **functions**, **variables**. \n",
    "\n",
    "* are combinations of letters, digits and underscore\n",
    "* cannot start with a digit\n",
    "* cannot be identical to `keywords`\n",
    "* cannot use special symbols: `!`, `@`, `#`, `$`, `%`\n",
    "* cannot contain spaces\n",
    "* can be arbitrarily long\n",
    "* are **case sensitive**\n",
    "    * `myvar`, `myVar`,`MyVAR` are different"
   ]
  },
  {
   "cell_type": "code",
   "execution_count": null,
   "metadata": {
    "scrolled": true,
    "slideshow": {
     "slide_type": "slide"
    }
   },
   "outputs": [],
   "source": [
    "myvar = 2.0\n",
    "myVar = myvar > 0\n",
    "\n",
    "print( 'myvar =', myvar)\n",
    "print( 'myVar =', myVar)"
   ]
  },
  {
   "cell_type": "markdown",
   "metadata": {
    "slideshow": {
     "slide_type": "slide"
    }
   },
   "source": [
    "# Python naming\n",
    "\n",
    "Good practice for naming identifiers is to make them\n",
    "* **meaningful** - convey the substance of data\n",
    "* **camelCase** - capitalize first letter of words \n",
    "    * `samplingRate`\n",
    "* **all caps** - highlight constants\n",
    "    * `LIGHTSPEED`"
   ]
  },
  {
   "cell_type": "code",
   "execution_count": null,
   "metadata": {
    "slideshow": {
     "slide_type": "-"
    }
   },
   "outputs": [],
   "source": [
    "x = 78.2                # what does this variable represent?\n",
    "breakingDistance = 78.2 # [m] clear meaning (indicates unit)\n",
    "EARTHMASS = 5.972e24    # [kg] clear meaning (constant)"
   ]
  },
  {
   "cell_type": "markdown",
   "metadata": {
    "slideshow": {
     "slide_type": "slide"
    }
   },
   "source": [
    "Multiple variables can be **assigned at the same time**."
   ]
  },
  {
   "cell_type": "code",
   "execution_count": null,
   "metadata": {
    "scrolled": true,
    "slideshow": {
     "slide_type": "-"
    }
   },
   "outputs": [],
   "source": [
    "travelTime, meanVelocity = 1.2, 65      # [h], [mph]\n",
    "\n",
    "print(travelTime, meanVelocity)"
   ]
  },
  {
   "cell_type": "markdown",
   "metadata": {
    "slideshow": {
     "slide_type": "slide"
    }
   },
   "source": [
    "Multiple variables can be **assigned the same value**."
   ]
  },
  {
   "cell_type": "code",
   "execution_count": null,
   "metadata": {
    "scrolled": true,
    "slideshow": {
     "slide_type": "-"
    }
   },
   "outputs": [],
   "source": [
    "meanVelocity = maxVelocity = 65      # [mph]\n",
    "\n",
    "print(meanVelocity, maxVelocity)"
   ]
  },
  {
   "cell_type": "markdown",
   "metadata": {
    "slideshow": {
     "slide_type": "slide"
    }
   },
   "source": [
    "# Learning Python\n",
    "\n",
    "It is a **vast language** and we cannot cover all its elements and libraries.\n",
    "\n",
    "An essential skill is your ability to **find documentation** as needed.\n",
    "\n",
    "> The [Python documentation](https://docs.python.org/3/index.html) - detailed reference.\n",
    "\n",
    "> The [Python tutorial](https://docs.python.org/3/tutorial/index.html) - rapid start for beginners."
   ]
  },
  {
   "cell_type": "markdown",
   "metadata": {
    "slideshow": {
     "slide_type": "slide"
    }
   },
   "source": [
    "# Python crash course"
   ]
  },
  {
   "cell_type": "markdown",
   "metadata": {
    "slideshow": {
     "slide_type": "slide"
    }
   },
   "source": [
    "The Python interpreter can function as a calculator.\n",
    "\n",
    "Variable types are derived from the numbers themselves.\n",
    "\n",
    "The output type derives from the input types (most inclusive)."
   ]
  },
  {
   "cell_type": "code",
   "execution_count": null,
   "metadata": {},
   "outputs": [],
   "source": [
    "a = 3       # an integer\n",
    "b = 0.14    # a float\n",
    "\n",
    "a + b       # the output will be a float"
   ]
  },
  {
   "cell_type": "markdown",
   "metadata": {
    "slideshow": {
     "slide_type": "slide"
    }
   },
   "source": [
    "Python support compound types, e.g. strings and lists.\n",
    "\n",
    "Operators adjust to the variable types.\n",
    "\n",
    "Built-in commands adjust to the variable type."
   ]
  },
  {
   "cell_type": "code",
   "execution_count": null,
   "metadata": {},
   "outputs": [],
   "source": [
    "aState = \"Colorado\" \n",
    "aCollege = \"School of Mines\"\n",
    "\n",
    "print(aState + ' ' + aCollege) # concatenate 2 strings\n",
    "print(len(aCollege))           # find the length of a string"
   ]
  },
  {
   "cell_type": "code",
   "execution_count": null,
   "metadata": {},
   "outputs": [],
   "source": [
    "bState = ['Colorado']\n",
    "bCollege = ['School','of','Mines']\n",
    "\n",
    "print(bState + bCollege)       # concatenate 2 lists\n",
    "print(len(bCollege))           # find the length of a list"
   ]
  },
  {
   "cell_type": "markdown",
   "metadata": {
    "slideshow": {
     "slide_type": "slide"
    }
   },
   "source": [
    "Subsets of compound variables can be accessed directly.\n",
    "\n",
    "Indexing starts at `0`."
   ]
  },
  {
   "cell_type": "code",
   "execution_count": null,
   "metadata": {},
   "outputs": [],
   "source": [
    "print(aState)\n",
    "print(aState[0:5])"
   ]
  },
  {
   "cell_type": "code",
   "execution_count": null,
   "metadata": {},
   "outputs": [],
   "source": [
    "print(bCollege)\n",
    "print(bCollege[1])"
   ]
  },
  {
   "cell_type": "markdown",
   "metadata": {
    "slideshow": {
     "slide_type": "slide"
    }
   },
   "source": [
    "Loops can be defined by their length or by an object.\n",
    "\n",
    "Built-in functions provide an arithmetic progression."
   ]
  },
  {
   "cell_type": "code",
   "execution_count": null,
   "metadata": {},
   "outputs": [],
   "source": [
    "for i in range( len(aState)):\n",
    "    print( aState[i], end=' ')"
   ]
  },
  {
   "cell_type": "code",
   "execution_count": null,
   "metadata": {},
   "outputs": [],
   "source": [
    "for l in aState:\n",
    "    print( l, end=' ')"
   ]
  },
  {
   "cell_type": "code",
   "execution_count": null,
   "metadata": {},
   "outputs": [],
   "source": [
    "i = 0\n",
    "while i < len(aState):\n",
    "    print( aState[i],end=' ')\n",
    "    i += 1"
   ]
  },
  {
   "cell_type": "markdown",
   "metadata": {
    "slideshow": {
     "slide_type": "slide"
    }
   },
   "source": [
    "Conditionals control execution flow.\n",
    "\n",
    "A null command can be used as a placeholder.\n",
    "\n",
    "Conditionals can nest."
   ]
  },
  {
   "cell_type": "code",
   "execution_count": null,
   "metadata": {
    "scrolled": true
   },
   "outputs": [],
   "source": [
    "n = int( input(\"enter a positive number:\") )\n",
    "if n%2 == 0:\n",
    "    print(n,'is even')\n",
    "else:\n",
    "    print(n,'is odd')"
   ]
  },
  {
   "cell_type": "code",
   "execution_count": null,
   "metadata": {},
   "outputs": [],
   "source": [
    "n = int( input(\"enter a positive number:\") )\n",
    "\n",
    "if n < 0:\n",
    "    pass\n",
    "else:\n",
    "    if n%2 == 0:\n",
    "        print(n,'is even')\n",
    "    else:\n",
    "        print(n,'is odd')"
   ]
  },
  {
   "cell_type": "markdown",
   "metadata": {
    "slideshow": {
     "slide_type": "slide"
    }
   },
   "source": [
    "User-defined functions can encapsulate code.\n",
    "\n",
    "Input arguments can be unpacked from compound variables."
   ]
  },
  {
   "cell_type": "code",
   "execution_count": null,
   "metadata": {},
   "outputs": [],
   "source": [
    "def mySieve( n, p ):\n",
    "    # return a list of all numbers < n that are divisible by p\n",
    "    \n",
    "    myList = [] \n",
    "    for i in range(n):\n",
    "        if i%p == 0:\n",
    "            myList.append(i)\n",
    "            \n",
    "    return myList\n",
    "\n",
    "print( mySieve(10,3) )"
   ]
  },
  {
   "cell_type": "code",
   "execution_count": null,
   "metadata": {},
   "outputs": [],
   "source": [
    "a = [10,3]             # list\n",
    "\n",
    "print( mySieve(*a) )   # unpack a list"
   ]
  },
  {
   "cell_type": "code",
   "execution_count": null,
   "metadata": {},
   "outputs": [],
   "source": [
    "b = dict(n=10, p=3)    # dictionary\n",
    "\n",
    "print( mySieve(**b))   # unpack a dictionary"
   ]
  },
  {
   "cell_type": "markdown",
   "metadata": {
    "slideshow": {
     "slide_type": "slide"
    }
   },
   "source": [
    "<img src=\"https://www.dropbox.com/s/7vd3ezqkyhdxmap/demo.png?raw=1\" width=\"10%\" align=\"left\">\n",
    "\n",
    "# Demo\n",
    "Compute the [Golden Ratio](https://en.wikipedia.org/wiki/Golden_ratio) using [Fibonacci numbers](https://en.wikipedia.org/wiki/Fibonacci_number).\n",
    "\n",
    "The key idea is that the ratio of numbers in the Fibonacci sequence approaches asymptotically the Golden Ratio.\n",
    "\n",
    "* The code computes pairs of numbers $a$ and $b$ in the Fibonacci sequence and evaluates their ratio.\n",
    "\n",
    "* Then, the code replaces $a$ with $b$ and $b$ with $a+b$ and continues for the specified number of steps.\n"
   ]
  },
  {
   "cell_type": "code",
   "execution_count": null,
   "metadata": {
    "slideshow": {
     "slide_type": "slide"
    }
   },
   "outputs": [],
   "source": [
    "n = 10\n",
    "\n",
    "a,b = 0,1\n",
    "for i in range(n):\n",
    "    t = a + b\n",
    "    a = b\n",
    "    b = t\n",
    "    \n",
    "    print( \"%5.3f\"%(b/a) )"
   ]
  }
 ],
 "metadata": {
  "celltoolbar": "Slideshow",
  "kernelspec": {
   "display_name": "Python 3 (ipykernel)",
   "language": "python",
   "name": "python3"
  },
  "language_info": {
   "codemirror_mode": {
    "name": "ipython",
    "version": 3
   },
   "file_extension": ".py",
   "mimetype": "text/x-python",
   "name": "python",
   "nbconvert_exporter": "python",
   "pygments_lexer": "ipython3",
   "version": "3.9.13"
  },
  "varInspector": {
   "cols": {
    "lenName": 16,
    "lenType": 16,
    "lenVar": 40
   },
   "kernels_config": {
    "python": {
     "delete_cmd_postfix": "",
     "delete_cmd_prefix": "del ",
     "library": "var_list.py",
     "varRefreshCmd": "print(var_dic_list())"
    },
    "r": {
     "delete_cmd_postfix": ") ",
     "delete_cmd_prefix": "rm(",
     "library": "var_list.r",
     "varRefreshCmd": "cat(var_dic_list()) "
    }
   },
   "types_to_exclude": [
    "module",
    "function",
    "builtin_function_or_method",
    "instance",
    "_Feature"
   ],
   "window_display": false
  }
 },
 "nbformat": 4,
 "nbformat_minor": 2
}
