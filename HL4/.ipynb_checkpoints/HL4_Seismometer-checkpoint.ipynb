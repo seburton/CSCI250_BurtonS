{
 "cells": [
  {
   "cell_type": "markdown",
   "metadata": {
    "slideshow": {
     "slide_type": "slide"
    }
   },
   "source": [
    "<img src=\"https://www.mines.edu/webcentral/wp-content/uploads/sites/267/2019/02/horizontallightbackground.jpg\" width=\"100%\"> \n",
    "\n",
    "### CSCI250 Python Computing: Building a Sensor System\n",
    "<hr style=\"height:5px\" width=\"100%\" align=\"left\">\n",
    "\n",
    "# LAB: Seismometer \n",
    "## Bart Simpson"
   ]
  },
  {
   "cell_type": "markdown",
   "metadata": {
    "heading_collapsed": true,
    "slideshow": {
     "slide_type": "slide"
    }
   },
   "source": [
    "# Introduction\n",
    "\n",
    "The goal for this lab is to create a [seismometer](https://en.wikipedia.org/wiki/Seismometer) using a variety of **motion sensors**."
   ]
  },
  {
   "cell_type": "markdown",
   "metadata": {
    "hidden": true,
    "slideshow": {
     "slide_type": "skip"
    }
   },
   "source": [
    "<img src=\"https://www.dropbox.com/s/u628vjn2uc5h3ua/notebook.png?raw=1\" width=\"10%\" align=\"right\">\n",
    "\n",
    "Read through\n",
    "* the [tilt switch notebook](h_TiltSwitch.ipynb) to learn about a simple device indicating position;\n",
    "* the [piezo element notebook](h_PiezoElement.ipynb) to learn about a device measuring deformation;\n",
    "* the [accelerometer notebook](h_Accelerometer.ipynb) to learn about a device measuring acceleration.\n",
    "\n",
    "**Build the circuits in all notebooks to ensure that everything works correctly.**"
   ]
  },
  {
   "cell_type": "markdown",
   "metadata": {
    "slideshow": {
     "slide_type": "skip"
    }
   },
   "source": [
    "# Pre-lab questions\n",
    "\n",
    "### Tilt Switch\n",
    "\n",
    "1. In what orientations does the switch open/close?\n",
    "    * Your answer here\n",
    "2. What can you do if you don't like having the switch attached to the breadboard?\n",
    "    * Your answer here\n",
    "3. What is the purpose of the pull-up/pull-down resistors?\n",
    "    * Your answer here\n",
    "\n",
    "### Piezo element\n",
    "\n",
    "1. Briefly describe the piezoelectric effect.\n",
    "    * Your answer here\n",
    "2. Why might the 1M Ohm resistor be important?\n",
    "    * Your answer here\n",
    "3. What is the largest voltage you could measure from the piezo element in testing?\n",
    "    * Your answer here\n",
    "\n",
    "### Accelerometer\n",
    "\n",
    "1. What accelerations do you measure when the sensor is placed flat?\n",
    "    * Your answer here\n",
    "2. How would you calculate the total magnitude of acceleration? (Hint: there's a useful theorem for this!)\n",
    "    * Your answer here\n",
    "3. What is the maximum acceleration that you can measure in each direction? (Try it! But don't break anything.)\n",
    "    * Your answer here"
   ]
  },
  {
   "cell_type": "markdown",
   "metadata": {
    "slideshow": {
     "slide_type": "slide"
    }
   },
   "source": [
    "# General Directions\n",
    "\n",
    "Your goal is to create a simple seismometer using several motion sensors. \n",
    "\n",
    "The basic idea for this lab is as follows: \n",
    "\n",
    "* The code should wait until large seismic activity is detected (ie. wait until the tilt switch flips over). \n",
    "* Then collect lots of data from the piezo element and from the accelerometer to record and display the earthquake behavior. \n",
    "* After data are collected, store the data in a file, and plot the raw data vs. time."
   ]
  },
  {
   "cell_type": "markdown",
   "metadata": {
    "slideshow": {
     "slide_type": "slide"
    }
   },
   "source": [
    "## Specific Requirements\n",
    "\n",
    "* Create classes for the accelerometer and piezo element as described below\n",
    "    * Create one instance of each for use later\n",
    "\n",
    "* Create a loop that waits for the tilt switch to flip over\n",
    "\n",
    "* Then record sensor data from the accelerometer and piezo element:\n",
    "    * record data from the sensors for 5s - don't use `time.sleep()`\n",
    "    * record the corresponding time of each measurement\n",
    "    * synchronize the measurements (i.e. use the same relative time)\n",
    "    \n",
    "* Once data collection finishes, save all data:\n",
    "    * store all arrays, including the time, into a single `.npz` file.\n",
    "    \n",
    "* Create plots of your data vs. time:\n",
    "    * plot all accelerometer components on a single plot;\n",
    "    * plot the data from the piezo element separately."
   ]
  },
  {
   "cell_type": "markdown",
   "metadata": {
    "slideshow": {
     "slide_type": "slide"
    }
   },
   "source": [
    "### Object-oriented programming\n",
    "Your code should be built using an object-oriented framework\n",
    "\n",
    "<img src=\"https://www.dropbox.com/s/u628vjn2uc5h3ua/notebook.png?raw=1\" width=\"10%\" align=\"right\">\n",
    "\n",
    "See the [OOP basics](s_PyOOPbasics.ipynb) for basics of OOP programming.\n",
    "\n",
    "See the [OOP extensions](s_PyOOPextensions.ipynb) for advanced concepts of OOP programming."
   ]
  },
  {
   "cell_type": "markdown",
   "metadata": {
    "slideshow": {
     "slide_type": "slide"
    }
   },
   "source": [
    "## class `Accelerometer`\n",
    "\n",
    "Required methods:\n",
    "* `__init__(tref=0)`\n",
    "    * set instance variable `tref` \n",
    "        * if the constructor argument is not 0, set `self.tref=tref`\n",
    "        * otherwise, set `self.tref` to the current time\n",
    "    * initializes 4 `numpy` arrays for time and the 3 acceleration components\n",
    "        * set all the array sizes to 0\n",
    "        * set all the array values to 0\n",
    "\n",
    "* `getTref()`\n",
    "    * returns the reference time `tref`\n",
    "* `setTref(tref)`\n",
    "    * set the time reference to `tref`\n",
    "\n",
    "* `read()`\n",
    "    * reads one sample (ax,ay,az) from the accelerometer with `accUtil.py`\n",
    "    * appends the relative time to `tref` to the declared `numpy` array\n",
    "    * appends the acceleration components to the declared `numpy` arrays\n",
    "        \n",
    "* `save(name=None)`\n",
    "    * saves the time and accelerometer data to an `.npz` file\n",
    "        \n",
    "* `plot()`\n",
    "    * create and display a single plot of the acceleration data as a function of time\n",
    "    * add labels, legend, etc."
   ]
  },
  {
   "cell_type": "code",
   "execution_count": 13,
   "metadata": {},
   "outputs": [
    {
     "ename": "ModuleNotFoundError",
     "evalue": "No module named 'smbus'",
     "output_type": "error",
     "traceback": [
      "\u001b[1;31m---------------------------------------------------------------------------\u001b[0m",
      "\u001b[1;31mModuleNotFoundError\u001b[0m                       Traceback (most recent call last)",
      "\u001b[1;32m~\\AppData\\Local\\Temp\\ipykernel_21936\\1919870411.py\u001b[0m in \u001b[0;36m<module>\u001b[1;34m\u001b[0m\n\u001b[0;32m      2\u001b[0m \u001b[1;32mimport\u001b[0m \u001b[0mmatplotlib\u001b[0m\u001b[1;33m.\u001b[0m\u001b[0mpyplot\u001b[0m \u001b[1;32mas\u001b[0m \u001b[0mplt\u001b[0m\u001b[1;33m\u001b[0m\u001b[1;33m\u001b[0m\u001b[0m\n\u001b[0;32m      3\u001b[0m \u001b[1;32mimport\u001b[0m \u001b[0mnumpy\u001b[0m \u001b[1;32mas\u001b[0m \u001b[0mnp\u001b[0m\u001b[1;33m\u001b[0m\u001b[1;33m\u001b[0m\u001b[0m\n\u001b[1;32m----> 4\u001b[1;33m \u001b[1;32mimport\u001b[0m \u001b[0maccUtil\u001b[0m \u001b[1;32mas\u001b[0m \u001b[0macc\u001b[0m\u001b[1;33m\u001b[0m\u001b[1;33m\u001b[0m\u001b[0m\n\u001b[0m\u001b[0;32m      5\u001b[0m \u001b[1;32mimport\u001b[0m \u001b[0mRPi\u001b[0m\u001b[1;33m.\u001b[0m\u001b[0mGPIO\u001b[0m \u001b[1;32mas\u001b[0m \u001b[0mGPIO\u001b[0m\u001b[1;33m\u001b[0m\u001b[1;33m\u001b[0m\u001b[0m\n",
      "\u001b[1;32m~\\work\\classes\\CSCI250\\HL4\\accUtil.py\u001b[0m in \u001b[0;36m<module>\u001b[1;34m\u001b[0m\n\u001b[0;32m      3\u001b[0m \u001b[1;31m# and include it with your submission.\u001b[0m\u001b[1;33m\u001b[0m\u001b[1;33m\u001b[0m\u001b[0m\n\u001b[0;32m      4\u001b[0m \u001b[1;33m\u001b[0m\u001b[0m\n\u001b[1;32m----> 5\u001b[1;33m \u001b[1;32mimport\u001b[0m \u001b[0msmbus\u001b[0m\u001b[1;33m\u001b[0m\u001b[1;33m\u001b[0m\u001b[0m\n\u001b[0m\u001b[0;32m      6\u001b[0m \u001b[1;33m\u001b[0m\u001b[0m\n\u001b[0;32m      7\u001b[0m \u001b[1;31m################################################################################\u001b[0m\u001b[1;33m\u001b[0m\u001b[1;33m\u001b[0m\u001b[0m\n",
      "\u001b[1;31mModuleNotFoundError\u001b[0m: No module named 'smbus'"
     ]
    }
   ],
   "source": [
    "import time\n",
    "import matplotlib.pyplot as plt\n",
    "import numpy as np\n",
    "import accUtil as acc\n",
    "import RPi.GPIO as GPIO"
   ]
  },
  {
   "cell_type": "code",
   "execution_count": 7,
   "metadata": {},
   "outputs": [],
   "source": [
    "class Accel:\n",
    "    \"\"\"This is the accelerometer class. The following libraries must be imported:\n",
    "        - time\n",
    "        - matplotlib.pyplot as plt\n",
    "        - accUtil as acc\n",
    "        - numpy as np\n",
    "    \"\"\"\n",
    "    \n",
    "\n",
    "    \n",
    "    def __init__(self, tref=0):\n",
    "        if tref==0:\n",
    "            self.tref=tref\n",
    "        else:\n",
    "            tref = time.time()\n",
    "        \n",
    "        self.times = []\n",
    "        self.dataX = []\n",
    "        self.dataY = []\n",
    "        self.dataZ = []\n",
    "    \n",
    "    def getTref(self):\n",
    "        return self.tref\n",
    "    \n",
    "    def setTref(self, newTref):\n",
    "        self.tref = newTref\n",
    "        \n",
    "    def read(self):\n",
    "        #reads one sample from the accelerometer\n",
    "        ax,ay,az = acc.readACC(\"MMA8452Q\")\n",
    "        #saves data to data arrays\n",
    "        self.times.append(time.time()-tref)\n",
    "        self.dataX.append(ax)\n",
    "        self.dataY.append(ay)\n",
    "        self.dataZ.append(az)\n",
    "    \n",
    "    def save(self, name=None):\n",
    "        #saves data arrays to files\n",
    "        if name==None:\n",
    "            np.savez(\"acc_\"+str(self.tref), time=self.times, accX=self.dataX, accY=self.dataY, accZ=self.dataZ)\n",
    "        else:\n",
    "            np.savez(name, time=self.times, accX=self.dataX, accY=self.dataY, accZ=self.dataZ)\n",
    "\n",
    "    def plot(self):\n",
    "        plt.plot(self.times, self.dataX, label=\"Acceleration in X direction\")\n",
    "        plt.plot(self.times, self.dataY, label=\"Acceleration in Y direction\")\n",
    "        plt.plot(self.times, self.dataZ, label=\"Acceleration in Z direction\")\n",
    "        plt.title(\"Acceleration as a function of time\")\n",
    "        plt.xlabel(\"Time\")\n",
    "        plt.ylabel(\"Acceleration (m/s^2)\")\n",
    "        plt.legend()\n",
    "        "
   ]
  },
  {
   "cell_type": "markdown",
   "metadata": {
    "slideshow": {
     "slide_type": "slide"
    }
   },
   "source": [
    "## class Piezoelement\n",
    "\n",
    "Required methods:\n",
    "* `__init__(tref=0, chan=0)`\n",
    "    * set instance variable `tref` \n",
    "        * if the constructor argument is not 0, set `self.tref=tref`\n",
    "        * otherwise, set `self.tref` to the current time\n",
    "    * set the instance variable `chan`\n",
    "    * initializes 2 `numpy` arrays for time and the piezoelement data\n",
    "        * set all the array sizes to 0\n",
    "        * set all the array values to 0\n",
    "\n",
    "* `getTref()`\n",
    "    * returns the reference time `tref`       \n",
    "* `setTref(tref)`\n",
    "    * set the time reference to `tref`\n",
    "    \n",
    "* `read()`\n",
    "    * reads one sample from the piezoelment with `adcUtil.py`\n",
    "    * appends the relative time to `tref` to the declared `numpy` array\n",
    "    * appends the piezoelement data to the declared `numpy` array\n",
    "    \n",
    "* `save(name=None)`\n",
    "    * saves the time and piezoelement data to an `.npz` file\n",
    "    \n",
    "* `plot()`\n",
    "    * create and display a single plot of the piezoelement data as a function of time\n",
    "    * add labels, legend, etc."
   ]
  },
  {
   "cell_type": "code",
   "execution_count": 9,
   "metadata": {},
   "outputs": [],
   "source": [
    "class Piezo:\n",
    "    \"\"\"This is the piezoelement class. In order to use the following libraries must be imported:\n",
    "        -matplotlib.pyplot as plt\n",
    "        -numpy as np\n",
    "        -adcUtil as adc\n",
    "        -time\n",
    "        \"\"\"\n",
    "    \n",
    "    def __init__(self, tref=0, chan=0):\n",
    "        if tref==0:\n",
    "            self.tref = time.time()\n",
    "        else:\n",
    "            self.tref = tref\n",
    "        \n",
    "        if chan==0:\n",
    "            self.chan = 0\n",
    "        else:\n",
    "            self.chan = chan\n",
    "        \n",
    "        self.times = []\n",
    "        self.data = []\n",
    "    \n",
    "    def getTref(self):\n",
    "        return self.tref\n",
    "    \n",
    "    def setTref(self, newTref):\n",
    "        self.tref = newTref\n",
    "        \n",
    "    def read(self):\n",
    "        reading = adc.readADC(channel=self.chan)\n",
    "        self.times.append(time.time()-tref)\n",
    "        self.data.append(reading)\n",
    "        \n",
    "    def save(self, name=None):\n",
    "         #saves data arrays to files\n",
    "        if name==None:\n",
    "            np.savez(\"pezo_\"+str(self.tref), time=self.times, voltage=self.data)\n",
    "        else:\n",
    "            np.savez(name, time=self.times, voltage=self.data)\n",
    "\n",
    "    def plot(self):\n",
    "        plt.plot(self.times, self.data, label=\"Piezoelement\")\n",
    "        plt.title(\"Voltage as a function of time\")\n",
    "        plt.xlabel(\"Time\")\n",
    "        plt.ylabel(\"Voltage (V)\")\n",
    "        plt.legend()"
   ]
  },
  {
   "cell_type": "markdown",
   "metadata": {
    "slideshow": {
     "slide_type": "slide"
    }
   },
   "source": [
    "* Add methods to your **Accelerometer** and **Piezoelement** classes that modify the data or the behavior of the sensors."
   ]
  },
  {
   "cell_type": "markdown",
   "metadata": {
    "slideshow": {
     "slide_type": "slide"
    }
   },
   "source": [
    "# Your code\n",
    "\n",
    "No starter code is provided for this lab. Use comments throughout your code so we can understand what it does. Even if you can't figure out how to write the code for something, a comment explaining what you wanted will get partial credit."
   ]
  },
  {
   "cell_type": "code",
   "execution_count": 11,
   "metadata": {
    "slideshow": {
     "slide_type": "-"
    }
   },
   "outputs": [],
   "source": [
    "# Your code here\n",
    "#Create classes for the accelerometer and piezo element as described below\n",
    "####################### see above\n",
    "\n",
    "\n",
    "#Create one instance of each for use later\n",
    "\n",
    "myAccel = Accel(tref=0)\n",
    "\n",
    "myPiez = Piezo(tref=0, chan=0)"
   ]
  },
  {
   "cell_type": "code",
   "execution_count": null,
   "metadata": {
    "slideshow": {
     "slide_type": "-"
    }
   },
   "outputs": [],
   "source": [
    "#Create a loop that waits for the tilt switch to flip over"
   ]
  },
  {
   "cell_type": "code",
   "execution_count": 15,
   "metadata": {
    "slideshow": {
     "slide_type": "-"
    }
   },
   "outputs": [
    {
     "ename": "NameError",
     "evalue": "name 'GPIO' is not defined",
     "output_type": "error",
     "traceback": [
      "\u001b[1;31m---------------------------------------------------------------------------\u001b[0m",
      "\u001b[1;31mNameError\u001b[0m                                 Traceback (most recent call last)",
      "\u001b[1;32m~\\AppData\\Local\\Temp\\ipykernel_21936\\3697481362.py\u001b[0m in \u001b[0;36m<module>\u001b[1;34m\u001b[0m\n\u001b[0;32m      1\u001b[0m \u001b[1;31m####first, set up the tilt switch\u001b[0m\u001b[1;33m\u001b[0m\u001b[1;33m\u001b[0m\u001b[0m\n\u001b[0;32m      2\u001b[0m \u001b[1;33m\u001b[0m\u001b[0m\n\u001b[1;32m----> 3\u001b[1;33m \u001b[0mGPIO\u001b[0m\u001b[1;33m.\u001b[0m\u001b[0msetmode\u001b[0m\u001b[1;33m(\u001b[0m\u001b[0mGPIO\u001b[0m\u001b[1;33m.\u001b[0m\u001b[0mBCM\u001b[0m\u001b[1;33m)\u001b[0m\u001b[1;33m\u001b[0m\u001b[1;33m\u001b[0m\u001b[0m\n\u001b[0m\u001b[0;32m      4\u001b[0m \u001b[1;33m\u001b[0m\u001b[0m\n\u001b[0;32m      5\u001b[0m \u001b[0mswitchPin\u001b[0m \u001b[1;33m=\u001b[0m \u001b[1;36m25\u001b[0m \u001b[1;31m################################## set the tilt switch GPIO pin here!!!!!!!!!!!\u001b[0m\u001b[1;33m\u001b[0m\u001b[1;33m\u001b[0m\u001b[0m\n",
      "\u001b[1;31mNameError\u001b[0m: name 'GPIO' is not defined"
     ]
    }
   ],
   "source": [
    " ####first, set up the tilt switch\n",
    "\n",
    "GPIO.setmode(GPIO.BCM)\n",
    "\n",
    "switchPin = 25 ################################## set the tilt switch GPIO pin here!!!!!!!!!!!\n",
    "\n",
    "#######################################I am using an internal pull-down resistor, so connect the other pin on the switch to 3.3V\n",
    "GPIO.setup(switchPin, GPIO.IN, pull_up_down=GPIO.PUD_DOWN)\n",
    "\n",
    "#make a function that saves a little bit of typing later on\n",
    "def tilt():\n",
    "    return GPIO.input(switchPin)"
   ]
  },
  {
   "cell_type": "code",
   "execution_count": null,
   "metadata": {
    "slideshow": {
     "slide_type": "-"
    }
   },
   "outputs": [],
   "source": [
    "#### now I get to the loop\n",
    "\n",
    "running == True\n",
    "times = []\n",
    "\n",
    "while running == True:\n",
    "    if tilt() == 0:\n",
    "    #synchronize the measurements (i.e. use the same relative time)\n",
    "    now = time.time()\n",
    "    myAccel.setTref(now)\n",
    "    myPiez.setTref(now)\n",
    "    \n",
    "    #record data from the sensors for 5s - don't use time.sleep()\n",
    "        start = time.time()\n",
    "        while time.time() <= 5+start:\n",
    "            #record the corresponding time of each measurement\n",
    "            times.append(time.time())\n",
    "\n",
    "            #Then record sensor data from the accelerometer and piezo element:\n",
    "            myAccel.read()\n",
    "            myPiez.read()\n",
    "        running=False"
   ]
  },
  {
   "cell_type": "code",
   "execution_count": 10,
   "metadata": {
    "slideshow": {
     "slide_type": "-"
    }
   },
   "outputs": [
    {
     "ename": "NameError",
     "evalue": "name 'myAccel' is not defined",
     "output_type": "error",
     "traceback": [
      "\u001b[1;31m---------------------------------------------------------------------------\u001b[0m",
      "\u001b[1;31mNameError\u001b[0m                                 Traceback (most recent call last)",
      "\u001b[1;32m~\\AppData\\Local\\Temp\\ipykernel_21936\\153371642.py\u001b[0m in \u001b[0;36m<module>\u001b[1;34m\u001b[0m\n\u001b[0;32m      1\u001b[0m \u001b[1;31m#Once data collection finishes, save all data:\u001b[0m\u001b[1;33m\u001b[0m\u001b[1;33m\u001b[0m\u001b[0m\n\u001b[1;32m----> 2\u001b[1;33m \u001b[0mmyAccel\u001b[0m\u001b[1;33m.\u001b[0m\u001b[0msave\u001b[0m\u001b[1;33m(\u001b[0m\u001b[0mname\u001b[0m\u001b[1;33m=\u001b[0m\u001b[0mmyAccelData\u001b[0m\u001b[1;33m)\u001b[0m\u001b[1;33m\u001b[0m\u001b[1;33m\u001b[0m\u001b[0m\n\u001b[0m\u001b[0;32m      3\u001b[0m \u001b[0mmyPiez\u001b[0m\u001b[1;33m.\u001b[0m\u001b[0msave\u001b[0m\u001b[1;33m(\u001b[0m\u001b[0mname\u001b[0m\u001b[1;33m=\u001b[0m\u001b[0mmyPiezData\u001b[0m\u001b[1;33m)\u001b[0m\u001b[1;33m\u001b[0m\u001b[1;33m\u001b[0m\u001b[0m\n\u001b[0;32m      4\u001b[0m \u001b[1;33m\u001b[0m\u001b[0m\n\u001b[0;32m      5\u001b[0m \u001b[1;31m#store all arrays, including the time, into a single .npz file.\u001b[0m\u001b[1;33m\u001b[0m\u001b[1;33m\u001b[0m\u001b[0m\n",
      "\u001b[1;31mNameError\u001b[0m: name 'myAccel' is not defined"
     ]
    }
   ],
   "source": [
    "#Once data collection finishes, save all data:\n",
    "myAccel.save(name=myAccelData)\n",
    "myPiez.save(name=myPiezData)\n",
    "    \n",
    "#store all arrays, including the time, into a single .npz file.\n",
    "np.savez(earthquakeData, time=times, accX=myAccel.dataX, accY=myAccel.dataY, accZ=myAvvel.dataZ, voltage=myPiez.data)\n",
    "   "
   ]
  },
  {
   "cell_type": "code",
   "execution_count": null,
   "metadata": {
    "slideshow": {
     "slide_type": "-"
    }
   },
   "outputs": [],
   "source": [
    " \n",
    "#Create plots of your data vs. time:\n",
    "ax1, ax2 = plt.subplots(2,1,shareX=True)\n",
    "\n",
    "#plot all accelerometer components on a single plot;\n",
    "ax1.plot(times, myAccel.dataX, label=\"Acceleration in X direction (m/s^2)\")\n",
    "ax1.plot(times, myAccel.dataY, label=\"Acceleration in Y direction (m/s^2)\")\n",
    "ax1.plot(times, myAccel.dataZ, label=\"Acceleration in Z direction (m/s^2)\")\n",
    "ax1.legend()\n",
    "ax1.set_ylabel(\"Acceleration (m/s^2)\")\n",
    "ax1.set_xlabel(\"Time\")\n",
    "ax1.set_title(\"Acceleration as a function of time\")\n",
    "\n",
    "#plot the data from the piezo element separately.\n",
    "ax2.plot(times, myPiez.data, label=\"Piezoelement\")\n",
    "ax2.set_ylabel(\"Voltage (V)\")\n",
    "ax2.set_xlabel(\"Time\")\n",
    "ax2.set_title(\"Voltage as a function of time\")\n",
    "ax2.legend()\n",
    "\n",
    "plt.tightlayout()"
   ]
  },
  {
   "cell_type": "markdown",
   "metadata": {
    "slideshow": {
     "slide_type": "skip"
    }
   },
   "source": [
    "# Post lab\n",
    "\n",
    "<img src=\"http://www.dropbox.com/s/fcucolyuzdjl80k/todo.jpg?raw=1\" width=\"10%\" align=\"right\">\n",
    "\n",
    "Before you submit the lab, make sure everything works as you expect by restarting the kernel: select **Kernel > Restart & Run All**.\n",
    "\n",
    "Answer the following questions.\n",
    "\n",
    "1. What elements of this lab did you find easy/challenging?\n",
    "    * Your answer here\n",
    "2. What did you like/dislike about this lab?\n",
    "    * Your answer here\n",
    "3. If you did anything worthy of extra credit, tell us about it here!\n",
    "    * Your answer here"
   ]
  },
  {
   "cell_type": "markdown",
   "metadata": {
    "slideshow": {
     "slide_type": "skip"
    }
   },
   "source": [
    "# Submit\n",
    "* Make sure to update your name and department in the top markdown cell.\n",
    "\n",
    "* Rename the Jupyter notebook with the following convention:\n",
    "**HL?-FirstLast.ipynb** (replace ? with the lab number)\n",
    "\n",
    "* Turn in your Jupyter notebook on Canvas. Email submissions don't count.\n",
    "\n",
    "* Include pictures of all the circuits you made."
   ]
  },
  {
   "cell_type": "markdown",
   "metadata": {
    "slideshow": {
     "slide_type": "slide"
    }
   },
   "source": [
    "# Honor code\n",
    "Unless explicitly specified, labs are **individual exercises**. Your submission is subject to the [**Mines Honor Code**](http://inside.mines.edu/~epoeter/_GW/CSMHonorCodeUndergradHandbook.pdf)."
   ]
  }
 ],
 "metadata": {
  "celltoolbar": "Slideshow",
  "hide_input": false,
  "kernelspec": {
   "display_name": "Python 3 (ipykernel)",
   "language": "python",
   "name": "python3"
  },
  "language_info": {
   "codemirror_mode": {
    "name": "ipython",
    "version": 3
   },
   "file_extension": ".py",
   "mimetype": "text/x-python",
   "name": "python",
   "nbconvert_exporter": "python",
   "pygments_lexer": "ipython3",
   "version": "3.9.13"
  },
  "varInspector": {
   "cols": {
    "lenName": 16,
    "lenType": 16,
    "lenVar": 40
   },
   "kernels_config": {
    "python": {
     "delete_cmd_postfix": "",
     "delete_cmd_prefix": "del ",
     "library": "var_list.py",
     "varRefreshCmd": "print(var_dic_list())"
    },
    "r": {
     "delete_cmd_postfix": ") ",
     "delete_cmd_prefix": "rm(",
     "library": "var_list.r",
     "varRefreshCmd": "cat(var_dic_list()) "
    }
   },
   "types_to_exclude": [
    "module",
    "function",
    "builtin_function_or_method",
    "instance",
    "_Feature"
   ],
   "window_display": false
  }
 },
 "nbformat": 4,
 "nbformat_minor": 4
}
