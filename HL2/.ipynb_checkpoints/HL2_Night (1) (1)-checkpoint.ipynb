{
 "cells": [
  {
   "cell_type": "markdown",
   "metadata": {
    "slideshow": {
     "slide_type": "slide"
    }
   },
   "source": [
    "<img src=\"https://www.mines.edu/webcentral/wp-content/uploads/sites/267/2019/02/horizontallightbackground.jpg\" width=\"100%\"> \n",
    "\n",
    "### CSCI250 Python Computing: Building a Sensor System\n",
    "<hr style=\"height:5px\" width=\"100%\" align=\"left\">\n",
    "\n",
    "# LAB: Night light\n",
    "## Samantha Burton"
   ]
  },
  {
   "cell_type": "markdown",
   "metadata": {
    "slideshow": {
     "slide_type": "slide"
    }
   },
   "source": [
    "# Introduction\n",
    "\n",
    "The goal of this lab is to connect and collect data from analog devices and capture them in digital form using an Analog-Digital Converter. \n",
    "\n",
    "You will configure an LED to turn on/off based on the amount of ambient light detected with a photoresistor. \n",
    "\n",
    "You will also use a potentiometer to set the threshold indicating when the LED needs to be turned on/off. "
   ]
  },
  {
   "cell_type": "markdown",
   "metadata": {
    "slideshow": {
     "slide_type": "slide"
    }
   },
   "source": [
    "<img src=\"https://www.dropbox.com/s/u628vjn2uc5h3ua/notebook.png?raw=1\" width=\"10%\" align=\"right\">\n",
    "\n",
    "Read through\n",
    "* the [ADC notebook](h_ADC.ipynb)  to learn how to measure analog voltages;\n",
    "* the [Potentiometer notebook](h_Potentiometer.ipynb)  to learn how to control voltages;\n",
    "* the [Photoresistor notebook](h_Photoresistor.ipynb)  to understand how to sense light.\n",
    "\n",
    "**Build all circuits to ensure that everything works correctly.**"
   ]
  },
  {
   "cell_type": "markdown",
   "metadata": {
    "slideshow": {
     "slide_type": "skip"
    }
   },
   "source": [
    "# Pre-lab questions\n",
    "\n",
    "### Potentiometer\n",
    "1. How does the output voltage change as you turn the knob of the potentiometer?\n",
    "    * The output voltage goes up or down depending which way the potentiometer is turned. It goes up when the knob is turned clockwise, and down when turned counterclockwise.\n",
    "2. What do you think would happen if you connected the output of the potentiometer to a GPIO pin? (Try it!)\n",
    "    * The GPIO would read the voltage of the potemtiometer. This is how we are able to use the potentiometer in this lab.\n",
    "3. What could happen if you connected 3.3V and GND to an outer and the middle pins? (Don't try it!)\n",
    "    * There could be a short if the knob is turned all the way.\n",
    "\n",
    "### Photoresistor\n",
    "1. How must the photoresistor be wired in order to use it? (Hint: this configuration has a name!)\n",
    "    * The wiring configuration of the photoresistor is called a voltage divider. The resistor is connected to the photoresistor at the same intersection as the GPIO. At the other side, the photoresistor is connected to Voltage. Resistor is always connected to Ground.\n",
    "2. How does the resistance change with light intensity?\n",
    "    * When light intensity increases, resistance decreases. When light intensity decreases, resistance increases.\n",
    "3. What range of resistances do you measure from the photoresistor?\n",
    "    * The photoresistors have ranges from 1 to 10 kOhms."
   ]
  },
  {
   "cell_type": "markdown",
   "metadata": {
    "slideshow": {
     "slide_type": "slide"
    }
   },
   "source": [
    "# Directions\n",
    "\n",
    "To create a night light, use the photoresistor to detect when it gets dark (you can simulate darkness by covering the sensor with your hand), then turn on an LED. \n",
    "\n",
    "You will use the potentiometer to set a threshold for the darkness level at which to turn on the LED."
   ]
  },
  {
   "cell_type": "markdown",
   "metadata": {
    "slideshow": {
     "slide_type": "slide"
    }
   },
   "source": [
    "* Measure voltages from the potentiometer and photoresistor.\n",
    "* Calculate the photoresistor resistance from the measured voltage.\n",
    "\n",
    "* Use the potentiometer voltage to determine the **threshold resistance** of the photoresistor.\n",
    "    * Map linearly the potentiometer voltage to the photoresistor resistance range.\n",
    "    \n",
    "* When the photoresistor resistance is above the **threshold resistance**, turn on the LED.\n",
    "* When the photoresistor resistance is below the **threshold resistance**, turn off the LED. "
   ]
  },
  {
   "cell_type": "markdown",
   "metadata": {
    "slideshow": {
     "slide_type": "slide"
    }
   },
   "source": [
    "## Hints\n",
    "\n",
    "To compute the photoresistor **threshold resistance** from the potentiometer voltage, think this way:\n",
    "\n",
    "* The potentiometer voltage is between $V_{min}=0$V and $V_{max}=3.3$V.\n",
    "* The photoresistor resistance is between $R_{min}=1$k$\\Omega$ and $R_{max}=10$k$\\Omega$.\n",
    "* We seek a linear relation between the measured voltage (of the potentiometer) and the target resistance (of the photoresistor).\n",
    "$$ R = m V + b$$\n",
    "* Compute the slope $m$ by\n",
    "$$ m = \\dfrac{R_{max}-R_{min}}{V_{max}-V_{min}} $$\n",
    "\n",
    "* Compute the intercept $b$ by:\n",
    "$$ b = R_{min} - m V_{min}$$\n",
    "\n",
    "* Therefore, for a **potentiometer voltage** $V$, we can compute the **threshold resistance** of the photoresistor as\n",
    "$$ R_{threshold} = m V_{potentiometer} + b$$"
   ]
  },
  {
   "cell_type": "markdown",
   "metadata": {
    "slideshow": {
     "slide_type": "slide"
    }
   },
   "source": [
    "To make it easier for us to test your code, connect \n",
    "* the photoresistor on the ADC CH0 \n",
    "* the potentiometer on the ADC CH1 \n",
    "* the LED to GPIO pin 27.\n",
    "\n",
    "Specify the connections if you do extra credit with different hardware."
   ]
  },
  {
   "cell_type": "markdown",
   "metadata": {
    "slideshow": {
     "slide_type": "slide"
    }
   },
   "source": [
    "## Extra credit:\n",
    "Use multiple LEDs to generate more or less artificial light for different conditions of the ambient light. "
   ]
  },
  {
   "cell_type": "markdown",
   "metadata": {
    "slideshow": {
     "slide_type": "slide"
    }
   },
   "source": [
    "# Starter code\n",
    "\n",
    "Starter code is provided below. Use comments throughout your code so we can understand what it does. Even if you can't figure out how to write the code for something, a comment explaining what you wanted will get partial credit."
   ]
  },
  {
   "cell_type": "code",
   "execution_count": 19,
   "metadata": {},
   "outputs": [],
   "source": [
    "import numpy as np"
   ]
  },
  {
   "cell_type": "code",
   "execution_count": 20,
   "metadata": {},
   "outputs": [],
   "source": [
    "#set up ADC\n",
    "import adcUtil as adc\n",
    "\n"
   ]
  },
  {
   "cell_type": "code",
   "execution_count": 21,
   "metadata": {},
   "outputs": [],
   "source": [
    "#set up LED\n",
    "import RPi.GPIO as GPIO\n",
    "\n",
    "GPIO.setmode(GPIO.BCM)\n",
    "#assign pin\n",
    "greenPin = 20\n",
    "bluePin = 21\n",
    "#make output stream\n",
    "GPIO.setup(greenPin,GPIO.OUT)\n",
    "GPIO.setup(bluePin,GPIO.OUT)\n",
    "\n"
   ]
  },
  {
   "cell_type": "code",
   "execution_count": 22,
   "metadata": {},
   "outputs": [
    {
     "name": "stdout",
     "output_type": "stream",
     "text": [
      "2.551612903225806\n"
     ]
    }
   ],
   "source": [
    "#set up photoresistor\n",
    "photo = adc.readADC(channel=1)\n",
    "print(photo)"
   ]
  },
  {
   "cell_type": "code",
   "execution_count": 23,
   "metadata": {},
   "outputs": [
    {
     "name": "stdout",
     "output_type": "stream",
     "text": [
      "0.0064516129032258064\n"
     ]
    }
   ],
   "source": [
    "#set up potentiometer\n",
    "pot = adc.readADC(channel=0)\n",
    "print(pot)"
   ]
  },
  {
   "cell_type": "code",
   "execution_count": 24,
   "metadata": {},
   "outputs": [],
   "source": [
    "def find_nearest(array, value):\n",
    "    array = np.asarray(array)\n",
    "    idx = (np.abs(array - value)).argmin()\n",
    "    return idx"
   ]
  },
  {
   "cell_type": "code",
   "execution_count": 42,
   "metadata": {
    "slideshow": {
     "slide_type": "slide"
    }
   },
   "outputs": [
    {
     "name": "stdout",
     "output_type": "stream",
     "text": [
      "Interrupt!\n",
      "Done!\n"
     ]
    }
   ],
   "source": [
    "GPIO.setmode(GPIO.BCM)\n",
    "#assign pin\n",
    "###########################################################This is where the light pins are assigned\n",
    "greenPin = 20\n",
    "bluePin = 21\n",
    "#make output stream\n",
    "GPIO.setup(greenPin,GPIO.OUT)\n",
    "GPIO.setup(bluePin,GPIO.OUT)\n",
    "\n",
    "potMax = 3.3\n",
    "potMin = 0.0032258064516129032\n",
    "photoAmb = 2.5483870967741935\n",
    "photoMin = 1.461290322580645\n",
    "\n",
    "photoGrad = np.linspace(photoMin,photoAmb)\n",
    "potGrad = np.linspace(potMin, potMax)\n",
    "\n",
    "try:\n",
    "    \n",
    "    while True: # loop forever\n",
    "        \n",
    "        # your code here\n",
    "        #read inputs from sensors\n",
    "        ##################################################This is where the sensor ADC channels are assigned\n",
    "        photo = adc.readADC(channel=1)\n",
    "        pot = adc.readADC(channel=0)\n",
    "\n",
    "        # use the linspace gradients to equate potentiometer value to photoresistor value\n",
    "        thresholdidx = find_nearest(potGrad,value=pot)\n",
    "        threshold = photoGrad[thresholdidx]\n",
    "\n",
    "        #if photoresistor value is less than the potentiometer threshold, blue light on. Otherwise off\n",
    "        if photo < threshold:\n",
    "            GPIO.output(bluePin, True)\n",
    "        else:\n",
    "            GPIO.output(bluePin, False)\n",
    "            \n",
    "        #If the photoresistor value is less than half of the threshold value, green light also on. Otherwise off\n",
    "        if photo < photoGrad[int(thresholdidx/2)]:\n",
    "            GPIO.output(greenPin, True)\n",
    "        else:\n",
    "            GPIO.output(greenPin, False)\n",
    "        \n",
    "\n",
    "except(KeyboardInterrupt, SystemExit):\n",
    "    print(\"Interrupt!\")\n",
    "\n",
    "finally:\n",
    "    print(\"Done!\")\n",
    "    GPIO.cleanup() # close GPIO"
   ]
  },
  {
   "cell_type": "code",
   "execution_count": null,
   "metadata": {},
   "outputs": [],
   "source": []
  },
  {
   "cell_type": "markdown",
   "metadata": {
    "slideshow": {
     "slide_type": "skip"
    }
   },
   "source": [
    "# Post lab\n",
    "\n",
    "<img src=\"http://www.dropbox.com/s/fcucolyuzdjl80k/todo.jpg?raw=1\" width=\"10%\" align=\"right\">\n",
    "\n",
    "Before you submit the lab, make sure everything works as you expect by restarting the kernel: select **Kernel > Restart & Run All**.\n",
    "\n",
    "Answer the following questions.\n",
    "\n",
    "1. What elements of this lab did you find easy/challenging?\n",
    "    * This lab came more easily to me than some of the others. I spent all of my time in class solving an issue unrelated to this lab, but once I actually got to wiring and coding it didn't take too long.\n",
    "2. What did you like/dislike about this lab?\n",
    "    * I didn't dislike anything about this lab. Every time I use the LEDs, though, I'm afraid I'll burn out the bulb.\n",
    "3. If you did anything worthy of extra credit, tell us about it here!\n",
    "    * I did the extra credit part of this assignment"
   ]
  },
  {
   "cell_type": "markdown",
   "metadata": {
    "slideshow": {
     "slide_type": "skip"
    }
   },
   "source": [
    "# Submit\n",
    "* Make sure to update your name and department in the top markdown cell.\n",
    "\n",
    "* Rename the Jupyter notebook with the following convention:\n",
    "**HL?-FirstLast.ipynb** (replace ? with the lab number)\n",
    "\n",
    "* Turn in your Jupyter notebook on Canvas. Email submissions don't count.\n",
    "\n",
    "* Include pictures of all the circuits you made."
   ]
  },
  {
   "cell_type": "markdown",
   "metadata": {},
   "source": [
    "![image](20230928_174714.jpg)"
   ]
  },
  {
   "cell_type": "markdown",
   "metadata": {
    "slideshow": {
     "slide_type": "slide"
    }
   },
   "source": [
    "# Honor code\n",
    "Unless explicitly specified, labs are **individual exercises**. Your submission is subject to the [**Mines Honor Code**](http://inside.mines.edu/~epoeter/_GW/CSMHonorCodeUndergradHandbook.pdf)."
   ]
  }
 ],
 "metadata": {
  "celltoolbar": "Slideshow",
  "hide_input": false,
  "kernelspec": {
   "display_name": "Python 3 (ipykernel)",
   "language": "python",
   "name": "python3"
  },
  "language_info": {
   "codemirror_mode": {
    "name": "ipython",
    "version": 3
   },
   "file_extension": ".py",
   "mimetype": "text/x-python",
   "name": "python",
   "nbconvert_exporter": "python",
   "pygments_lexer": "ipython3",
   "version": "3.9.13"
  },
  "varInspector": {
   "cols": {
    "lenName": 16,
    "lenType": 16,
    "lenVar": 40
   },
   "kernels_config": {
    "python": {
     "delete_cmd_postfix": "",
     "delete_cmd_prefix": "del ",
     "library": "var_list.py",
     "varRefreshCmd": "print(var_dic_list())"
    },
    "r": {
     "delete_cmd_postfix": ") ",
     "delete_cmd_prefix": "rm(",
     "library": "var_list.r",
     "varRefreshCmd": "cat(var_dic_list()) "
    }
   },
   "types_to_exclude": [
    "module",
    "function",
    "builtin_function_or_method",
    "instance",
    "_Feature"
   ],
   "window_display": false
  }
 },
 "nbformat": 4,
 "nbformat_minor": 4
}
