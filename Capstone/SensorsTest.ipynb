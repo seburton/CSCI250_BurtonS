{
 "cells": [
  {
   "cell_type": "code",
   "execution_count": 1,
   "id": "f3f30ea1-00ea-4db0-915c-03e376bb0e40",
   "metadata": {},
   "outputs": [],
   "source": [
    "from DistanceSensor import DistanceSensor\n",
    "from Speaker import Speaker\n",
    "from Button import Button\n",
    "from LED import LED\n",
    "\n",
    "from Theremin import Theremin\n",
    "from Note import Note\n",
    "import DataProcessing\n",
    "#import threading\n",
    "#import queue\n",
    "import time\n",
    "from Studio import Studio"
   ]
  },
  {
   "cell_type": "code",
   "execution_count": 2,
   "id": "de19dbde-9264-4cb4-95e0-832462111e52",
   "metadata": {},
   "outputs": [
    {
     "name": "stderr",
     "output_type": "stream",
     "text": [
      "/home/csci250/CSCI250/Capstone/DistanceSensor.py:17: RuntimeWarning: This channel is already in use, continuing anyway.  Use GPIO.setwarnings(False) to disable warnings.\n",
      "  GPIO.setup(self.GPIO_TRIGGER, GPIO.OUT)\n"
     ]
    },
    {
     "data": {
      "text/plain": [
       "6.493139266967773"
      ]
     },
     "execution_count": 2,
     "metadata": {},
     "output_type": "execute_result"
    }
   ],
   "source": [
    "#note distance sensor\n",
    "\n",
    "noteDistanceSensor = DistanceSensor(24,23)\n",
    "noteDistanceSensor.read()"
   ]
  },
  {
   "cell_type": "code",
   "execution_count": 3,
   "id": "8b011b5c-0d19-4f80-8f68-25748eaeefbd",
   "metadata": {},
   "outputs": [
    {
     "data": {
      "text/plain": [
       "75.12496709823608"
      ]
     },
     "execution_count": 3,
     "metadata": {},
     "output_type": "execute_result"
    }
   ],
   "source": [
    "#type distance sensor\n",
    "\n",
    "typeDistanceSensor = DistanceSensor(22,21)\n",
    "typeDistanceSensor.read()"
   ]
  },
  {
   "cell_type": "code",
   "execution_count": 4,
   "id": "eeb6c880-6495-42c8-9ad5-fb9adb3a58df",
   "metadata": {},
   "outputs": [],
   "source": [
    "#make new note\n",
    "note = Note(noteDistanceSensor.read())"
   ]
  },
  {
   "cell_type": "code",
   "execution_count": 5,
   "id": "00a070be-75a4-48ca-865d-50deb03596f3",
   "metadata": {},
   "outputs": [],
   "source": [
    "#set up speakers, not forgetting to run sudo pigpiod -p 8887 in terminal\n",
    "\n",
    "leftSpeaker = Speaker(18)\n",
    "#leftSpeaker.sing(note)\n",
    "leftSpeaker.stop()"
   ]
  },
  {
   "cell_type": "code",
   "execution_count": 6,
   "id": "e2ed6f24-da70-45b1-88b8-254ef8002328",
   "metadata": {},
   "outputs": [],
   "source": [
    "rightSpeaker = Speaker(19)\n",
    "#rightSpeaker.sing(note)\n",
    "rightSpeaker.stop()"
   ]
  },
  {
   "cell_type": "code",
   "execution_count": 7,
   "id": "d8170815-460e-422d-8273-bdde9b773d41",
   "metadata": {},
   "outputs": [],
   "source": [
    "#set up button\n",
    "\n",
    "button = Button(16)\n",
    "\n",
    "#for i in range(10):\n",
    " #   print(button.read())\n",
    "  #  time.sleep(0.5)"
   ]
  },
  {
   "cell_type": "code",
   "execution_count": 8,
   "id": "d1d9be52-d667-4666-9fd2-b694983893d7",
   "metadata": {},
   "outputs": [
    {
     "name": "stderr",
     "output_type": "stream",
     "text": [
      "/home/csci250/CSCI250/Capstone/LED.py:9: RuntimeWarning: This channel is already in use, continuing anyway.  Use GPIO.setwarnings(False) to disable warnings.\n",
      "  GPIO.setup(self.ledPin, GPIO.OUT)\n"
     ]
    }
   ],
   "source": [
    "#set up LED\n",
    "light = LED(27)\n",
    "light.on()\n",
    "time.sleep(1)\n",
    "light.off()"
   ]
  },
  {
   "cell_type": "code",
   "execution_count": 9,
   "id": "6a6bcf72-c814-4169-a0ba-5d9b71f4f09c",
   "metadata": {},
   "outputs": [],
   "source": [
    "#set up Theremin\n",
    "theremin = Theremin(noteDistanceSensor, typeDistanceSensor, leftSpeaker, rightSpeaker)"
   ]
  },
  {
   "cell_type": "code",
   "execution_count": 10,
   "id": "4f42b816-9de3-4986-9879-533f0cca2168",
   "metadata": {},
   "outputs": [
    {
     "ename": "NameError",
     "evalue": "name 'dataQ' is not defined",
     "output_type": "error",
     "traceback": [
      "\u001b[0;31m---------------------------------------------------------------------------\u001b[0m",
      "\u001b[0;31mNameError\u001b[0m                                 Traceback (most recent call last)",
      "Cell \u001b[0;32mIn[10], line 3\u001b[0m\n\u001b[1;32m      1\u001b[0m \u001b[38;5;66;03m#set up the Studio\u001b[39;00m\n\u001b[1;32m      2\u001b[0m Studio \u001b[38;5;241m=\u001b[39m Studio(theremin)\n\u001b[0;32m----> 3\u001b[0m \u001b[43mStudio\u001b[49m\u001b[38;5;241;43m.\u001b[39;49m\u001b[43mplayTheremin\u001b[49m\u001b[43m(\u001b[49m\u001b[38;5;28;43;01mTrue\u001b[39;49;00m\u001b[43m)\u001b[49m\n\u001b[1;32m      4\u001b[0m time\u001b[38;5;241m.\u001b[39msleep(\u001b[38;5;241m5\u001b[39m)\n\u001b[1;32m      5\u001b[0m Studio\u001b[38;5;241m.\u001b[39mplayTheremin(\u001b[38;5;28;01mFalse\u001b[39;00m)\n",
      "File \u001b[0;32m~/CSCI250/Capstone/Studio.py:34\u001b[0m, in \u001b[0;36mStudio.playTheremin\u001b[0;34m(self, playing)\u001b[0m\n\u001b[1;32m     31\u001b[0m     \u001b[38;5;28mself\u001b[39m\u001b[38;5;241m.\u001b[39mdataCollection\u001b[38;5;241m.\u001b[39mstart()\n\u001b[1;32m     32\u001b[0m     \u001b[38;5;28mself\u001b[39m\u001b[38;5;241m.\u001b[39mdataReading\u001b[38;5;241m.\u001b[39mstart()\n\u001b[0;32m---> 34\u001b[0m     \u001b[43mdataQ\u001b[49m\u001b[38;5;241m.\u001b[39mjoin()\n\u001b[1;32m     36\u001b[0m \u001b[38;5;28;01mif\u001b[39;00m playing \u001b[38;5;241m==\u001b[39m \u001b[38;5;28;01mFalse\u001b[39;00m:\n\u001b[1;32m     37\u001b[0m     \u001b[38;5;28mself\u001b[39m\u001b[38;5;241m.\u001b[39mTheremin\u001b[38;5;241m.\u001b[39mleftSpeaker\u001b[38;5;241m.\u001b[39mstop()\n",
      "\u001b[0;31mNameError\u001b[0m: name 'dataQ' is not defined"
     ]
    }
   ],
   "source": [
    "#set up the Studio\n",
    "Studio = Studio(theremin)\n",
    "Studio.playTheremin(True)\n",
    "time.sleep(5)\n",
    "Studio.playTheremin(False)"
   ]
  },
  {
   "cell_type": "code",
   "execution_count": null,
   "id": "36cb41a0-7d55-4b58-9a65-d71c00d5a4e8",
   "metadata": {},
   "outputs": [],
   "source": [
    "## Below I write beginning code for the recording studio"
   ]
  },
  {
   "cell_type": "code",
   "execution_count": null,
   "id": "30b05220-ad49-4b6e-93a6-cea3517ac99b",
   "metadata": {},
   "outputs": [],
   "source": [
    "# the theremin reads notes from the sensors and plays them at the same time it is having some problems but I've made some progress"
   ]
  },
  {
   "cell_type": "code",
   "execution_count": null,
   "id": "1e3ae18c-a484-4529-bf60-9a95d88345d4",
   "metadata": {},
   "outputs": [],
   "source": [
    "def dataProducer(dataQ, theremin):\n",
    "    #This producer collects data from the distance sensor and adds note frequencies to the queue\n",
    "    while playing == True:\n",
    "        newNote = theremin.readNote()\n",
    "            \n",
    "        \n",
    "        dataQ.put(newNote)"
   ]
  },
  {
   "cell_type": "code",
   "execution_count": null,
   "id": "a67438e6-1ec4-41c0-af6f-8fc975cc993b",
   "metadata": {},
   "outputs": [],
   "source": [
    "def dataConsumer(dataQ, theremin):\n",
    "    #this consumer gets note frequencies from the queue and plays them on the buzzer\n",
    "    while playing == True:\n",
    "        toPlay = dataQ.get()\n",
    "        theremin.playNote(toPlay)\n",
    "        "
   ]
  },
  {
   "cell_type": "code",
   "execution_count": null,
   "id": "d7bd977a-b659-4b3c-9846-b795ae0d7f87",
   "metadata": {},
   "outputs": [],
   "source": [
    "playing = True\n",
    "\n",
    "dataQ = queue.Queue()\n",
    "dataCollection = threading.Thread(target = dataProducer, args = (dataQ,theremin))\n",
    "dataReading = threading.Thread(target = dataConsumer, args = (dataQ,theremin))\n",
    "\n",
    "dataCollection.start()\n",
    "dataReading.start()\n",
    "\n",
    "dataQ.join()\n",
    "\n",
    "t0 = time.time()\n",
    "while time.time() <t0+10:\n",
    "    playing = True\n",
    "playing = False"
   ]
  },
  {
   "cell_type": "code",
   "execution_count": 24,
   "id": "9d1f1a82-42cf-447a-957b-8f14c3e793ea",
   "metadata": {},
   "outputs": [],
   "source": [
    "leftSpeaker.stop()\n",
    "rightSpeaker.stop()"
   ]
  },
  {
   "cell_type": "code",
   "execution_count": null,
   "id": "f2d94e0f-a5ab-4316-a34c-d17e1926dfbe",
   "metadata": {},
   "outputs": [],
   "source": [
    "pi.hardware_PWM(buzPin, 0, 0)"
   ]
  },
  {
   "cell_type": "code",
   "execution_count": null,
   "id": "1b156c52-23c5-4883-adfa-9b0243da6518",
   "metadata": {},
   "outputs": [],
   "source": [
    "#below this is a backup plan just in case we need it\n",
    "\n",
    "t0 = time.time()\n",
    "data = []\n",
    "dataFrequencies = []\n",
    "while time.time() <t0+6:\n",
    "    newDist = dist1.read()\n",
    "    if newDist != 0:\n",
    "        data.append(newDist)\n",
    "        \n",
    "    #add newest frequency to frequency array\n",
    "    for j in range(len(distanceDiscretizations)):\n",
    "        try:\n",
    "            if data[-1] > distanceDiscretizations[j] and data[-1] < distanceDiscretizations[j+1]:\n",
    "                dataFrequencies.append( notes[noteNames[j]] )\n",
    "                #play this note\n",
    "                #pi.hardware_PWM(buzPin, dataFrequencies[-1], int(0.5*1e6))\n",
    "                time.sleep(0.05)\n",
    "                pi.hardware_PWM(buzPin, 0, 0)\n",
    "        except:\n",
    "                dataFrequencies.append( 'Gs' )\n",
    "                #play this note\n",
    "                #pi.hardware_PWM(buzPin, dataFrequencies[-1], int(0.5*1e6))\n",
    "                time.sleep(0.05)\n",
    "                pi.hardware_PWM(buzPin, 0, 0)\n",
    "    \n",
    "data = np.array(data)"
   ]
  },
  {
   "cell_type": "code",
   "execution_count": null,
   "id": "fca71564-26f4-471a-bdd4-4c0beb92fd4f",
   "metadata": {},
   "outputs": [],
   "source": [
    "plt.plot(data)"
   ]
  },
  {
   "cell_type": "code",
   "execution_count": null,
   "id": "2ee93771-3813-4c36-887d-f6e4056c91a1",
   "metadata": {},
   "outputs": [],
   "source": [
    "plt.plot(proc.medianFilter(data))\n",
    "filteredData = proc.medianFilter(data)"
   ]
  },
  {
   "cell_type": "code",
   "execution_count": null,
   "id": "5e191594-ddab-4ff0-8ce2-ab278ecc818d",
   "metadata": {},
   "outputs": [],
   "source": [
    "notes, frequencies = proc.discretizeNotes(filteredData)\n",
    "plt.plot(frequencies)\n"
   ]
  },
  {
   "cell_type": "code",
   "execution_count": null,
   "id": "23b31bd7-7f85-45b4-bdc7-b26d1525aa35",
   "metadata": {},
   "outputs": [],
   "source": [
    "buzPin = 12\n",
    "\n",
    "pi = pigpio.pi(port = 8887)\n",
    "\n",
    "for i in range(len(frequencies)):\n",
    "    pi.hardware_PWM(buzPin, frequencies[i], int(0.5*1e6))\n",
    "    time.sleep(0.05)\n",
    "    pi.hardware_PWM(buzPin, 0, 0)"
   ]
  }
 ],
 "metadata": {
  "kernelspec": {
   "display_name": "Python 3 (ipykernel)",
   "language": "python",
   "name": "python3"
  },
  "language_info": {
   "codemirror_mode": {
    "name": "ipython",
    "version": 3
   },
   "file_extension": ".py",
   "mimetype": "text/x-python",
   "name": "python",
   "nbconvert_exporter": "python",
   "pygments_lexer": "ipython3",
   "version": "3.9.2"
  }
 },
 "nbformat": 4,
 "nbformat_minor": 5
}
