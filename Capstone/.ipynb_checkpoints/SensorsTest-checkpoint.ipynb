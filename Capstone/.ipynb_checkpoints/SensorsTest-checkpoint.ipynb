{
 "cells": [
  {
   "cell_type": "code",
   "execution_count": 1,
   "id": "997dd936-e5c5-4065-9038-51c56acde772",
   "metadata": {},
   "outputs": [],
   "source": [
    "from DistanceSensor import DistanceSensor\n",
    "from Speaker import Speaker\n",
    "from Button import Button\n",
    "from LED import LED\n",
    "\n",
    "from Theremin import Theremin\n",
    "from Note import Note\n",
    "import DataProcessing\n",
    "import threading\n",
    "import queue\n",
    "import time\n",
    "from Studio import Studio\n",
    "\n",
    "#set relevant GPIO pins here\n",
    "leftBuzzPin = 18\n",
    "rightBuzzPin = 19\n",
    "ledPin = 27\n",
    "buttonPin = 12\n",
    "noteTrigPin = 24\n",
    "noteEchoPin = 23\n",
    "typeTrigPin = 22\n",
    "typeEchoPin = 21"
   ]
  },
  {
   "cell_type": "code",
   "execution_count": 2,
   "id": "de19dbde-9264-4cb4-95e0-832462111e52",
   "metadata": {},
   "outputs": [
    {
     "name": "stderr",
     "output_type": "stream",
     "text": [
      "/home/csci250/CSCI250/Capstone/DistanceSensor.py:17: RuntimeWarning: This channel is already in use, continuing anyway.  Use GPIO.setwarnings(False) to disable warnings.\n",
      "  GPIO.setup(self.GPIO_TRIGGER, GPIO.OUT)\n"
     ]
    },
    {
     "data": {
      "text/plain": [
       "56.26705884933472"
      ]
     },
     "execution_count": 2,
     "metadata": {},
     "output_type": "execute_result"
    }
   ],
   "source": [
    "#note distance sensor\n",
    "\n",
    "noteDistanceSensor = DistanceSensor(noteTrigPin, noteEchoPin)\n",
    "noteDistanceSensor.read()"
   ]
  },
  {
   "cell_type": "code",
   "execution_count": 3,
   "id": "8b011b5c-0d19-4f80-8f68-25748eaeefbd",
   "metadata": {},
   "outputs": [
    {
     "data": {
      "text/plain": [
       "810.186767578125"
      ]
     },
     "execution_count": 3,
     "metadata": {},
     "output_type": "execute_result"
    }
   ],
   "source": [
    "#type distance sensor\n",
    "\n",
    "typeDistanceSensor = DistanceSensor(typeTrigPin, typeEchoPin)\n",
    "typeDistanceSensor.read()"
   ]
  },
  {
   "cell_type": "code",
   "execution_count": 4,
   "id": "eeb6c880-6495-42c8-9ad5-fb9adb3a58df",
   "metadata": {},
   "outputs": [],
   "source": [
    "#make new note\n",
    "note = Note(noteDistanceSensor.read(), typeDistanceSensor.read())"
   ]
  },
  {
   "cell_type": "code",
   "execution_count": 5,
   "id": "00a070be-75a4-48ca-865d-50deb03596f3",
   "metadata": {},
   "outputs": [],
   "source": [
    "#set up speakers, not forgetting to run sudo pigpiod -p 8887 in terminal\n",
    "\n",
    "leftSpeaker = Speaker(leftBuzzPin)\n",
    "leftSpeaker.sing(note)\n",
    "leftSpeaker.stop()"
   ]
  },
  {
   "cell_type": "code",
   "execution_count": 6,
   "id": "e2ed6f24-da70-45b1-88b8-254ef8002328",
   "metadata": {},
   "outputs": [],
   "source": [
    "rightSpeaker = Speaker(rightBuzzPin)\n",
    "rightSpeaker.sing(note)\n",
    "rightSpeaker.stop()"
   ]
  },
  {
   "cell_type": "code",
   "execution_count": 7,
   "id": "d8170815-460e-422d-8273-bdde9b773d41",
   "metadata": {},
   "outputs": [
    {
     "name": "stdout",
     "output_type": "stream",
     "text": [
      "0\n",
      "0\n",
      "0\n",
      "0\n",
      "0\n",
      "0\n",
      "0\n",
      "0\n",
      "0\n",
      "0\n"
     ]
    }
   ],
   "source": [
    "#set up button\n",
    "button = Button(buttonPin)\n",
    "\n",
    "for i in range(10):\n",
    "    print(button.read())\n",
    "    time.sleep(0.5)"
   ]
  },
  {
   "cell_type": "code",
   "execution_count": 8,
   "id": "d1d9be52-d667-4666-9fd2-b694983893d7",
   "metadata": {},
   "outputs": [
    {
     "name": "stderr",
     "output_type": "stream",
     "text": [
      "/home/csci250/CSCI250/Capstone/LED.py:9: RuntimeWarning: This channel is already in use, continuing anyway.  Use GPIO.setwarnings(False) to disable warnings.\n",
      "  GPIO.setup(self.ledPin, GPIO.OUT)\n"
     ]
    }
   ],
   "source": [
    "#set up LED\n",
    "light = LED(ledPin)\n",
    "light.on()\n",
    "time.sleep(1)\n",
    "light.off()"
   ]
  },
  {
   "cell_type": "code",
   "execution_count": 9,
   "id": "6a6bcf72-c814-4169-a0ba-5d9b71f4f09c",
   "metadata": {},
   "outputs": [],
   "source": [
    "#set up Theremin\n",
    "theremin = Theremin(noteDistanceSensor, typeDistanceSensor, leftSpeaker, rightSpeaker)"
   ]
  },
  {
   "cell_type": "code",
   "execution_count": 10,
   "id": "4f42b816-9de3-4986-9879-533f0cca2168",
   "metadata": {},
   "outputs": [
    {
     "name": "stdout",
     "output_type": "stream",
     "text": [
      "Done\n"
     ]
    }
   ],
   "source": [
    "#set up the Studio\n",
    "studio = Studio(theremin)\n",
    "studio.playTheremin()\n",
    "time.sleep(5)\n",
    "studio.stopTheremin()\n",
    "leftSpeaker.stop()\n",
    "rightSpeaker.stop()\n",
    "print(\"Done\")"
   ]
  },
  {
   "cell_type": "code",
   "execution_count": 11,
   "id": "c3f9e664-357b-46a5-8fc6-d76388bdb8ec",
   "metadata": {},
   "outputs": [
    {
     "name": "stdout",
     "output_type": "stream",
     "text": [
      "Loop Broken\n"
     ]
    }
   ],
   "source": [
    "## Below I write beginning code for the recording studio\n",
    "\n",
    "# the theremin reads notes from the sensors and plays them at the same time it is having some problems but I've made some progress"
   ]
  },
  {
   "cell_type": "code",
   "execution_count": 12,
   "id": "d7bd977a-b659-4b3c-9846-b795ae0d7f87",
   "metadata": {},
   "outputs": [],
   "source": [
    "studio.playTheremin()"
   ]
  },
  {
   "cell_type": "code",
   "execution_count": 13,
   "id": "897c5ca4-453d-4b5a-923d-0f53767f30d9",
   "metadata": {},
   "outputs": [
    {
     "name": "stdout",
     "output_type": "stream",
     "text": [
      "Done\n",
      "Loop Broken\n"
     ]
    }
   ],
   "source": [
    "studio.stopTheremin()\n",
    "leftSpeaker.stop()\n",
    "rightSpeaker.stop()\n",
    "print(\"Done\")"
   ]
  },
  {
   "cell_type": "code",
   "execution_count": null,
   "id": "f2d94e0f-a5ab-4316-a34c-d17e1926dfbe",
   "metadata": {},
   "outputs": [],
   "source": [
    "pi.hardware_PWM(buzPin, 0, 0)"
   ]
  },
  {
   "cell_type": "code",
   "execution_count": null,
   "id": "1b156c52-23c5-4883-adfa-9b0243da6518",
   "metadata": {},
   "outputs": [],
   "source": [
    "#below this is a backup plan just in case we need it\n",
    "\n",
    "t0 = time.time()\n",
    "data = []\n",
    "dataFrequencies = []\n",
    "while time.time() <t0+6:\n",
    "    newDist = dist1.read()\n",
    "    if newDist != 0:\n",
    "        data.append(newDist)\n",
    "        \n",
    "    #add newest frequency to frequency array\n",
    "    for j in range(len(distanceDiscretizations)):\n",
    "        try:\n",
    "            if data[-1] > distanceDiscretizations[j] and data[-1] < distanceDiscretizations[j+1]:\n",
    "                dataFrequencies.append( notes[noteNames[j]] )\n",
    "                #play this note\n",
    "                #pi.hardware_PWM(buzPin, dataFrequencies[-1], int(0.5*1e6))\n",
    "                time.sleep(0.05)\n",
    "                pi.hardware_PWM(buzPin, 0, 0)\n",
    "        except:\n",
    "                dataFrequencies.append( 'Gs' )\n",
    "                #play this note\n",
    "                #pi.hardware_PWM(buzPin, dataFrequencies[-1], int(0.5*1e6))\n",
    "                time.sleep(0.05)\n",
    "                pi.hardware_PWM(buzPin, 0, 0)\n",
    "    \n",
    "data = np.array(data)"
   ]
  },
  {
   "cell_type": "code",
   "execution_count": null,
   "id": "fca71564-26f4-471a-bdd4-4c0beb92fd4f",
   "metadata": {},
   "outputs": [],
   "source": [
    "plt.plot(data)"
   ]
  },
  {
   "cell_type": "code",
   "execution_count": null,
   "id": "2ee93771-3813-4c36-887d-f6e4056c91a1",
   "metadata": {},
   "outputs": [],
   "source": [
    "plt.plot(proc.medianFilter(data))\n",
    "filteredData = proc.medianFilter(data)"
   ]
  },
  {
   "cell_type": "code",
   "execution_count": null,
   "id": "5e191594-ddab-4ff0-8ce2-ab278ecc818d",
   "metadata": {},
   "outputs": [],
   "source": [
    "notes, frequencies = proc.discretizeNotes(filteredData)\n",
    "plt.plot(frequencies)\n"
   ]
  },
  {
   "cell_type": "code",
   "execution_count": null,
   "id": "23b31bd7-7f85-45b4-bdc7-b26d1525aa35",
   "metadata": {},
   "outputs": [],
   "source": [
    "buzPin = 12\n",
    "\n",
    "pi = pigpio.pi(port = 8887)\n",
    "\n",
    "for i in range(len(frequencies)):\n",
    "    pi.hardware_PWM(buzPin, frequencies[i], int(0.5*1e6))\n",
    "    time.sleep(0.05)\n",
    "    pi.hardware_PWM(buzPin, 0, 0)"
   ]
  }
 ],
 "metadata": {
  "kernelspec": {
   "display_name": "Python 3 (ipykernel)",
   "language": "python",
   "name": "python3"
  },
  "language_info": {
   "codemirror_mode": {
    "name": "ipython",
    "version": 3
   },
   "file_extension": ".py",
   "mimetype": "text/x-python",
   "name": "python",
   "nbconvert_exporter": "python",
   "pygments_lexer": "ipython3",
   "version": "3.9.13"
  }
 },
 "nbformat": 4,
 "nbformat_minor": 5
}
