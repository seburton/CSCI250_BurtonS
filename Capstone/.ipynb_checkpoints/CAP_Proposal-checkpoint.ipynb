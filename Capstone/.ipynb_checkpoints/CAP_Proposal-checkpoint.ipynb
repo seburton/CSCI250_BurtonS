{
 "cells": [
  {
   "cell_type": "markdown",
   "metadata": {},
   "source": [
    "<img src=\"https://www.mines.edu/webcentral/wp-content/uploads/sites/267/2019/02/horizontallightbackground.jpg\" width=\"100%\"> \n",
    "\n",
    "### CSCI250 Python Computing: Building a Sensor System\n",
    "<hr style=\"height:5px\" width=\"100%\" align=\"left\">\n",
    "\n",
    "# Capstone project proposal"
   ]
  },
  {
   "cell_type": "markdown",
   "metadata": {},
   "source": [
    "# Title and description of the project\n",
    "\n",
    "**Title:** Makeshift Theremin\n",
    "\n",
    "**Description:** We will build a theremin-like instrument using two distance sensors, one speaker, one button, and an LED. The instrument makes sound through the speaker. The distance sensors will be used to control the notes the instrument plays and whether it is making sound (constant or vibrato). The button will be used to start recording (an LED signals recording).\n",
    "- Distance sensors: Distance sensors will be on opposite sides of the breadboard so the signals do not interfere. On one, the note played by the instrument will be different depending how far away the user's hand is. As distance increases the note becomes lower. The type of sound made (constant, vibrato, or no sound) is determined by the other sensor. When the hand is far away, no sound is made. When it is closer constant sound is made, and when it is closest there is vibrato."
   ]
  },
  {
   "cell_type": "markdown",
   "metadata": {},
   "source": [
    "# Names and roles of all team members\n",
    "\n",
    "Sam Burton"
   ]
  },
  {
   "cell_type": "markdown",
   "metadata": {},
   "source": [
    "# How the project requirements will be met\n",
    "\n",
    "* **Collect** and store data (or status info) in external files.  \n",
    "*The recordings the instrument takes wil be collected and stored in files.*  \n",
    "* **Process** data using `numpy` arrays and efficient (vectorized, concurrent) calculations.  \n",
    "*Files can be loaded back into the program so past recordings can be played again.*\n",
    "* **Display** data in the final report to demonstrate the project functionality.  \n",
    "*Data will be displayed visually in a graph and audibly when songs are played out loud.*\n",
    "* **Interpret** the project data and provide a discussion on the project outcome/success.\n",
    "*Notes and sound type will have to be interpreted from data to play it and record it. *"
   ]
  },
  {
   "cell_type": "markdown",
   "metadata": {},
   "source": [
    "# Project timeline and milestones\n",
    "**17th November -** Classes and functions for available sensors made. Hardware built.\n",
    " \n",
    "**20th November -** Progress update. Instrument is functional and software works.\n",
    "\n",
    "**27th November -** User friendly program is made (with buttons to click instead of cells to run). Program and instrument are ready for presentation.\n",
    "\n",
    "**1st December -** Video script written, this is filming day.\n",
    "\n",
    "**6th December -** Final project due/video is ready for presentation."
   ]
  },
  {
   "cell_type": "markdown",
   "metadata": {},
   "source": [
    "# Hardware elements you intend to use\n",
    "\n",
    "- Distance sensors\n",
    "- Speaker\n",
    "- LED\n",
    "- Button"
   ]
  }
 ],
 "metadata": {
  "hide_input": false,
  "kernelspec": {
   "display_name": "Python 3 (ipykernel)",
   "language": "python",
   "name": "python3"
  },
  "language_info": {
   "codemirror_mode": {
    "name": "ipython",
    "version": 3
   },
   "file_extension": ".py",
   "mimetype": "text/x-python",
   "name": "python",
   "nbconvert_exporter": "python",
   "pygments_lexer": "ipython3",
   "version": "3.9.13"
  },
  "varInspector": {
   "cols": {
    "lenName": 16,
    "lenType": 16,
    "lenVar": 40
   },
   "kernels_config": {
    "python": {
     "delete_cmd_postfix": "",
     "delete_cmd_prefix": "del ",
     "library": "var_list.py",
     "varRefreshCmd": "print(var_dic_list())"
    },
    "r": {
     "delete_cmd_postfix": ") ",
     "delete_cmd_prefix": "rm(",
     "library": "var_list.r",
     "varRefreshCmd": "cat(var_dic_list()) "
    }
   },
   "types_to_exclude": [
    "module",
    "function",
    "builtin_function_or_method",
    "instance",
    "_Feature"
   ],
   "window_display": false
  }
 },
 "nbformat": 4,
 "nbformat_minor": 4
}
