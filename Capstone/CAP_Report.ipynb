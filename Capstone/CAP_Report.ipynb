{
 "cells": [
  {
   "cell_type": "markdown",
   "metadata": {},
   "source": [
    "<img src=\"https://3a2vzv37nkuw3esf6a3u2t7s-wpengine.netdna-ssl.com/webcentral/wp-content/uploads/sites/267/2019/02/horizontaldarkbackground.jpg\" width=\"55%\" align=\"left\"> \n",
    "<br><br><br><br><br>\n",
    "<font size=3 color='#08088A'>\n",
    "<b>CSCI250 Python Computing: Building a Sensor System</b> <br><br>\n",
    "Capstone final report\n",
    "</font>\n",
    "<hr style=\"height:5px\" width=\"55%\" align=\"left\">"
   ]
  },
  {
   "cell_type": "markdown",
   "metadata": {},
   "source": [
    "# Ultrasonic Theremin\n",
    "\n",
    "\n",
    "Top View             |  Side View\n",
    ":-------------------------:|:-------------------------:\n",
    "<img src=\"topView.jpg\" alt=\"top view\" width=\"200\"> |   <img src=\"sideView.jpg\" alt=\"side view\" width=\"200\">"
   ]
  },
  {
   "cell_type": "markdown",
   "metadata": {},
   "source": [
    "# Group \n",
    "\n",
    "* Sam Burton\n",
    "    - Distance Sensors and Speakers hardware classes\n",
    "    - Theremin class\n",
    "    - Note class\n",
    "* Tyler Witt\n",
    "    - File Management\n",
    "    - Button, Light, and Recording Classes\n",
    "* Paul Gruszecki"
    "    - GUI\n",
    "    - Distance Sensor/Speaker Debugging\n",
    "    - Assist with File Management\n"
   ]
  },
  {
   "cell_type": "markdown",
   "metadata": {},
   "source": [
    "# Description\n",
    "\n",
    "This is a theremin-like instrument which operates using two distance sensors, two speakers, one button, and an LED. Distance sensors take readings which indicate whether the instrument should be making sound, and which notes it should play. The button is used to make recordings, indicated by the LED when recording is in progress. The recording is then saved to be used for playback or to look at with a graph."
   ]
  },
  {
   "cell_type": "markdown",
   "metadata": {},
   "source": [
    "# Hardware\n",
    "\n",
    "**Ultrasonic Distance Sensors**  \n",
    "Ultrasonic distance sensors work by sending an ultrasonic pulse from a transmitter and then recieving it back and timing the duration between. \n",
    "1. Send the pulse for 0.01 ms and record start time.\n",
    "2. Read the pulse as it returns and record stop time.\n",
    "3. Calculate the time difference and use that to calculate distance of the object using the equation\n",
    "$$distance = \\frac {timeDifference * sonicSpeed} {2}$$\n",
    "Measurements can be taken no faster than 0.05s due to signal interference for consecutive measurements.  \n",
    "  \n",
    "\n",
    "**Speakers**  \n",
    "Speakers are implemented using accurate Pulse With Modulation by pigpio. The duty cycle is 0.9 for every note, which makes a a smoother sound. The only difference between notes is their frequency. Notes are read by the speakers as a frequency and a duration(always 0.5s) and played consecutively through the Theremin object.  \n",
    "\n",
    "\n",
    "**Button**  \n",
    "The button is how the user tells the program to start recording a song, and then to stop recording.  \n",
    "\n",
    "\n",
    "**LED**  \n",
    "The LED indicates whether a recording is in progress. LED turns on when the recording is happening and turns off when recording is stopped."
   ]
  },
  {
   "cell_type": "markdown",
   "metadata": {},
   "source": [
    "# Operation\n",
    "\n",
    "The Theremin is started through the user interface by clicking the button \"Start Playing'. After this, the user puts their hand in front of the left distance sensor to turn the sound on and off. The right distance sensor is used to control the note that is played. The highest notes are farther from the sensor, and the lowest notes close, all in the fourth octave.   \n",
    "When the button is pressed and the light comes on, a song is being recorded. Use the Ultrasonic Theramin to play music, and when the song is over press the button again.  \n",
    "The recording is automatically saved within the folder 'Saves' once finished, which can be seen through the button 'Recorded Songs'. If the file name is not changed, it will increase the last number in the name by one so the previous file won't be overwritten. You can also change the file name by pressing the 'Rename' button in the same tab.\n",
    "There are two ways to interact with the songs that have been recorded. The first is to play back the song by pressing 'play back' in the tab. The other way is to look at the pitch based on time. This is done on a separate notebook called 'visualization'. "
   ]
  },
  {
   "cell_type": "markdown",
   "metadata": {},
   "source": [
    "# Data\n",
    "\n",
    "1. **Collection**  \n",
    "\n",
    "*Data is collected by the class Studio through the Theremin, which interacts with the user through the distance sensors. The Theremin uses distance sensor readings to interpret Notes, which are stored in Recording objects. Recording objects have an attribute, song, which is a list of notes that can be accessed and played back through the user interface.*"
   ]
  },
  {
   "cell_type": "code",
   "execution_count": null,
   "metadata": {},
   "outputs": [],
   "source": [
    "def read(self):\n",
    "    ''' function returns distance reading using publically available code'''\n",
    "    # set Trigger to HIGH\n",
    "    GPIO.output(self.GPIO_TRIGGER, True)\n",
    "     \n",
    "    # set Trigger after 0.01ms to LOW\n",
    "    time.sleep(0.00001)\n",
    "    GPIO.output(self.GPIO_TRIGGER, False)   \n",
    "        \n",
    "    StartTime = time.time()\n",
    "    StopTime = time.time()\n",
    "\n",
    "    # save StartTime\n",
    "    while GPIO.input(self.GPIO_ECHO) == 0:\n",
    "        StartTime = time.time()\n",
    "        \n",
    "    # save time of arrival\n",
    "    while GPIO.input(self.GPIO_ECHO) == 1:\n",
    "        StopTime = time.time()\n",
    "\n",
    "    # time difference between start and arrival\n",
    "    TimeElapsed = StopTime - StartTime\n",
    "    # multiply with the sonic speed (34300 cm/s)\n",
    "    # and divide by 2, because there and back\n",
    "    distance = (TimeElapsed * 34300) / 2\n",
    "\n",
    "    time.sleep(0.05)\n",
    "    return distance"
   ]
  },
  {
   "cell_type": "markdown",
   "metadata": {},
   "source": [
    "2. **Processing**\n",
    "\n",
    "*Data from the distance sensors is interpreted in the initialization of a Note object. The data processing function discretizeNote divides a range of readable distances into sections and assigns them each the frequency of a note in the fourth octave. Notes are in order of descending frequency and are assigned shortest distance to lowest frequency.*"
   ]
  },
  {
   "cell_type": "code",
   "execution_count": null,
   "metadata": {},
   "outputs": [],
   "source": [
    "def discretizeNote(dataset):\n",
    "    '''takes a smooth dataset and discretizes into notes in octave 4. Each note is approximately 0.05 seconds long. returns two arrays: data notes and data frequencies, respectively'''\n",
    "    #make dictionary of notes\n",
    "    notes = {\n",
    "        'A' : 220,\n",
    "        'As' : 233,\n",
    "        'B' : 247,\n",
    "        'C' : 262,\n",
    "        'Cs' : 277,\n",
    "        'D' : 294,\n",
    "        'Ds' : 311,\n",
    "        'E' : 330,\n",
    "        'F' : 349,\n",
    "        'Fs' : 370,\n",
    "        'G' : 392,\n",
    "        'Gs' : 415,\n",
    "    }\n",
    "    noteNames = ['A', 'As', 'B', 'C', 'Cs', 'D', 'Ds', 'E', 'F', 'Fs', 'G', 'Gs']\n",
    "    \n",
    "    #discretize distances accordingly\n",
    "    minimumDist = 1.0\n",
    "    maximumDist = 50.0\n",
    "    #each section represents a note corresponding with dictionary order\n",
    "    distanceDiscretizations = np.arange(minimumDist, maximumDist, (maximumDist-minimumDist)/len(notes))\n",
    "\n",
    "    #set data to be median of dataset\n",
    "    data = np.median(dataset)\n",
    "    \n",
    "    for j in range(len(distanceDiscretizations)-1):\n",
    "        #if the distance is between the current and previous distance discretizations, record note\n",
    "        if data > distanceDiscretizations[j] and data < distanceDiscretizations[j+1]:\n",
    "            dataNotes = noteNames[j]\n",
    "            dataFrequencies = notes[noteNames[j]] \n",
    "\n",
    "        elif data > distanceDiscretizations[-1]:\n",
    "            dataNotes = noteNames[-1]\n",
    "            dataFrequencies = notes[noteNames[-1]]\n",
    "            break\n",
    "\n",
    "    return dataNotes, dataFrequencies"
   ]
  },
  {
   "cell_type": "markdown",
   "metadata": {},
   "source": [
    "3. **Display**  \n",
    "\n",
    "*Data can be displayed using the Visualizer notebook as a frequency/time plot of the song.*  \n",
    "<img src=\"examplePlot.png\" alt=\"Example visual plot\" width=\"400\">\n",
    "\n",
    "4. **Interpretation**\n",
    "\n",
    "*The data from the sensors is interpreted by the Theremin, which plays the music through the speakers.*"
   ]
  },
  {
   "cell_type": "code",
   "execution_count": null,
   "metadata": {},
   "outputs": [],
   "source": [
    "def sing(self, Note):\n",
    "\n",
    "    self.pi.hardware_PWM(self.SpeakerPin, Note.pitch,int(0.9*1e6))\n",
    "    time.sleep(Note.duration)    \n",
    "def playNote(self, note):\n",
    "    leftThread = threading.Thread(target = self.leftSpeaker.sing, args=(note,))\n",
    "    rightThread = threading.Thread(target = self.rightSpeaker.sing, args=(note,))\n",
    "\n",
    "    leftThread.start()\n",
    "    rightThread.start()\n",
    "        \n",
    "        "
   ]
  },
  {
   "cell_type": "markdown",
   "metadata": {},
   "source": [
    "# Wiring\n",
    "\n",
    "#### Distance Sensors\n",
    "<img src=\"distanceSchematic.png\" alt=\"Distance Sensors wiring\" width=\"300\">"
   ]
  },
  {
   "cell_type": "markdown",
   "metadata": {},
   "source": [
    "The distance sensors have four pins. The VCC pin is for power, and is connected to Voltage. The Trig pin is connected to a GPIO pin and is the Trigger Pulse Input (i.e. this is what sends the ultrasonic signal out). The Echo pin is also connected to a GPIO pin and it is what receives the ultrasonic signal back. The GND pin is connected to Ground.\n",
    "\n",
    "#### Speakers\n",
    "<img src=\"speakerSchematic.png\" alt=\"Speakers wiring\" width=\"300\">"
   ]
  },
  {
   "cell_type": "markdown",
   "metadata": {},
   "source": [
    "The speakers each have a positive and negative pin. The positive pin is connected to a GPIO pin and the negative pin is connected to Ground.\n",
    "\n",
    "#### Button\n",
    "\n",
    "\n",
    "<img src=\"buttonSchematic.png\" alt=\"Button wiring\" width=\"300\">"
   ]
  },
  {
   "cell_type": "markdown",
   "metadata": {},
   "source": [
    "The button must be put in the middle of the breadboard, carefully oriented so that the connected pins cross the middle of the breadboard. One set of connected pins is connected to GPIO pin, and the other to Voltage.\n",
    "\n",
    "#### LED\n",
    "<img src=\"LEDSchematic.png\" alt=\"LED wiring\" width=\"300\">"
   ]
  },
  {
   "cell_type": "markdown",
   "metadata": {},
   "source": [
    "The LED has a long leg and a short leg. The long leg is connected to a GPIO pin and the short leg is connected to Ground."
   ]
  },
  {
   "cell_type": "markdown",
   "metadata": {},
   "source": [
    "# Code\n",
    "\n",
    "**Libraries**\n",
    "- numpy\n",
    "- RPi.GPIO\n",
    "- time\n",
    "- pigpio\n",
    "- threading\n",
    "- queue"
   ]
  },
  {
   "cell_type": "markdown",
   "metadata": {},
   "source": [
    "There were nine new classes developed for the functioning and use of the Ultrasonic Theremin. \n",
    "\n",
    "#### **Hardware classes**  \n",
    "- DistanceSensor (DistanceSensor.py)  \n",
    "\n",
    "\n",
    "*This class has one function that reads distance data from the sensor*  \n",
    "- Speaker (Speaker.py)  \n",
    "\n",
    "\n",
    "*This class has two functions. The first function, sing, takesne argument which is a Note object and buzzes at the frequency of the Note for the duration of the Note. The second function is a stop function.*  \n",
    "- Button (Button.py)  \n",
    "\n",
    "\n",
    "*This class contains a read function which determines whether the button is pressed.*    \n",
    "- LED (LED.py)  \n",
    "\n",
    "\n",
    "*This class has two functions, one which turns the LED on, and one which turns it off.*  \n",
    "- Theremin (Theremin.py)  \n",
    "\n",
    "\n",
    "*The Theremin class is initiated with two speakers and two distance sensors. There is a function called playNote which takes a Note parameter and plays it through the speakers at the same time using threads. This includes Notes that do not have any sound (type = Quiet). The function readNote takes a reading from each distance sensor and initializes a new Note object using the distances. The last function, readType, is used within readNote and takes a reading from a distance sensor (opposite the frequency distance sensor) which indicates the type when a note is initialized.*  \n",
    "\n",
    "#### **Operation class**  \n",
    "- Studio (Studio.py)  \n",
    "\n",
    "\n",
    "*The Studio class is initialized using a Theremin object and has a Queue. It allows the Theremin to play and measure sound continuously. The thread function reads a  note from the theramin, puts it in the queue, and them immediately plays it. If the queue gets an argument that is False, the loop is broken and the Theremin stops working. The thread is started through the function playTheremin, and the queue recieves a False argument (stopping the Theremin) through the function stopTheremin.*  \n",
    "\n",
    "#### **Data management classes**  \n",
    "- Note (Note.py)  \n",
    "\n",
    "\n",
    "*The Note class is an object with two attributes, duration and pitch. The duration of every note is the same (0.5s), and the pitch is the same as a note from the fourth octave. Initializing the Note takes two arguments, one from the Type distance sensor, and one from the Note distance sensor. If the Type distance sensor is not interacted with, the pitch attribute is 0. If it is not, the Note distance sensor reading is discretized using the discretizeType data processing function from the module Data Processing.*  \n",
    "- Recording (Recording.py)  \n",
    "\n",
    "\n",
    "*The recording class has two functions. One class appends a Note to a song, which is a list of Notes. The other function saves the song as a .npy file.*"
   ]
  },
  {
   "cell_type": "markdown",
   "metadata": {},
   "source": [
    "# Credits\n",
    "\n",
    "Cook, J. S. (n.d.). JeremySCook / circuitpython-experiments. GitHub. https://github.com/JeremySCook/circuitpython-experiments/blob/main/MIDI/Ultrasonic_MIDI.py This is where the Distance Sensor starter code came from.  \n",
    "JOEL_E_B. (n.d.). Sparkfun Inventor’s kit experiment guide - v4.0. SparkFun Inventor’s Kit Experiment Guide - v4.0 - SparkFun Learn. https://learn.sparkfun.com/tutorials/sparkfun-inventors-kit-experiment-guide---v40/circuit-3b-distance-sensor   \n",
    "Jsvester, &amp; Instructables. (2017, October 26). Simple arduino and HC-SR04 example. Instructables. https://www.instructables.com/Simple-Arduino-and-HC-SR04-Example/   \n",
    "Lucius_47. (2021, April 11). Huge spikes in HC-SR04 ultrasonic sensor reading. Arduino Forum. https://forum.arduino.cc/t/huge-spikes-in-hc-sr04-ultrasonic-sensor-reading/704293   \n",
    "New raspberry pi graphics and models for Fritzing. RasPi.TV. (2013, August 17). https://raspi.tv/2013/new-raspberry-pi-graphics-and-models-for-fritzing Raspberry Pi schematic source  \n",
    "Press, R. runs R. P. (n.d.). Breadboard tutorial: Learn electronics with raspberry pi. The MagPi magazine. https://magpi.raspberrypi.com/articles/breadboard-tutorial Breadboard Schematic Source  \n",
    "Sparkfun. (n.d.). Sparkfun/HC-sr04_ultrasonicsensor: Arduino example code for the HC-SR04 ultrasonic ranging sensor. GitHub. https://github.com/sparkfun/HC-SR04_UltrasonicSensor   \n",
    "Using a raspberry pi distance sensor (Ultrasonic Sensor HC-SR04). Tutorials for Raspberry Pi. (2023, July 18). https://tutorials-raspberrypi.com/raspberry-pi-ultrasonic-sensor-hc-sr04/   \n",
    "Using an ultrasonic distance sensor. Projects.raspberrypi.org. (n.d.). https://projects.raspberrypi.org/en/projects/physical-computing/12   "
   ]
  }
 ],
 "metadata": {
  "kernelspec": {
   "display_name": "Python 3 (ipykernel)",
   "language": "python",
   "name": "python3"
  },
  "language_info": {
   "codemirror_mode": {
    "name": "ipython",
    "version": 3
   },
   "file_extension": ".py",
   "mimetype": "text/x-python",
   "name": "python",
   "nbconvert_exporter": "python",
   "pygments_lexer": "ipython3",
   "version": "3.9.13"
  },
  "varInspector": {
   "cols": {
    "lenName": 16,
    "lenType": 16,
    "lenVar": 40
   },
   "kernels_config": {
    "python": {
     "delete_cmd_postfix": "",
     "delete_cmd_prefix": "del ",
     "library": "var_list.py",
     "varRefreshCmd": "print(var_dic_list())"
    },
    "r": {
     "delete_cmd_postfix": ") ",
     "delete_cmd_prefix": "rm(",
     "library": "var_list.r",
     "varRefreshCmd": "cat(var_dic_list()) "
    }
   },
   "types_to_exclude": [
    "module",
    "function",
    "builtin_function_or_method",
    "instance",
    "_Feature"
   ],
   "window_display": false
  }
 },
 "nbformat": 4,
 "nbformat_minor": 4
}
