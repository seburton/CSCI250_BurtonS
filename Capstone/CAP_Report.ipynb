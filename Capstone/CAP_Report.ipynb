{
 "cells": [
  {
   "cell_type": "markdown",
   "metadata": {},
   "source": [
    "<img src=\"https://3a2vzv37nkuw3esf6a3u2t7s-wpengine.netdna-ssl.com/webcentral/wp-content/uploads/sites/267/2019/02/horizontaldarkbackground.jpg\" width=\"55%\" align=\"left\"> \n",
    "<br><br><br><br><br>\n",
    "<font size=3 color='#08088A'>\n",
    "<b>CSCI250 Python Computing: Building a Sensor System</b> <br><br>\n",
    "Capstone final report\n",
    "</font>\n",
    "<hr style=\"height:5px\" width=\"55%\" align=\"left\">"
   ]
  },
  {
   "cell_type": "markdown",
   "metadata": {},
   "source": [
    "# Title\n",
    "\n",
    "Insert one or more pictures of your project. \n",
    "You can do this by clicking **Edit** in the menu bar, then **Insert Image**."
   ]
  },
  {
   "cell_type": "markdown",
   "metadata": {},
   "source": [
    "# Group \n",
    "\n",
    "List all members and indicate specific project responsibilities:\n",
    "\n",
    "* Bart Simpson, tasks...\n",
    "* Lisa Simpson, tasks...\n",
    "* ..."
   ]
  },
  {
   "cell_type": "markdown",
   "metadata": {},
   "source": [
    "# Description\n",
    "\n",
    "This is a theremin-like instrument which operates using two distance sensors, two speakers, one button, and an LED. Distance sensors take readings which indicate whether the instrument should be making sound, and which notes it should play. The button is used to make recordings, indicated by the LED when recording is in progress. Recordings can be stored and accessed again through the user interface, which is also used to turn the Theremin on and off."
   ]
  },
  {
   "cell_type": "markdown",
   "metadata": {},
   "source": [
    "# Hardware\n",
    "\n",
    "**Ultrasonic Distance Sensors**  \n",
    "Ultrasonic distance sensors work by sending an ultrasonic pulse from a transmitter and then recieving it back and timing the duration between. \n",
    "1. Send the pulse for 0.01 ms and record start time.\n",
    "2. Read the pulse as it returns and record stop time.\n",
    "3. Calculate the time difference and use that to calculate distance of the object using the equation\n",
    "$$distance = (timeDifference * sonicSpeed) / 2$$\n",
    "Measurements can be taken no faster than 0.05s due to signal interference for consecutive measurements.  \n",
    "  \n",
    "\n",
    "**Speakers**\n",
    "Speakers are implemented using accurate Pulse With Modulation by pigpio. The duty cycle is 0.9 for every note, which makes a a smoother sound. The only difference between notes is their frequency. Notes are read by the speakers as a frequency and a duration(always 0.5s) and played consecutively through the Theremin object.  \n",
    "\n",
    "\n",
    "**Button**\n",
    "____________________________________add more info here__________________\n",
    "\n",
    "**LED**\n",
    "The LED indicates whether a recording is in progress. LED turns on when the recording is happening and turns off when recording is stopped."
   ]
  },
  {
   "cell_type": "markdown",
   "metadata": {},
   "source": [
    "# Operation\n",
    "\n",
    "Describe how to use or operate your project. If it's a game, describe how to play."
   ]
  },
  {
   "cell_type": "markdown",
   "metadata": {},
   "source": [
    "# Data\n",
    "\n",
    "As stated in the capstone guidelines notebook, your project must have 4 data components:\n",
    "\n",
    "1. **Collect** data\n",
    "2. **Process** data\n",
    "3. **Display** data\n",
    "4. **Interpret** data\n",
    "\n",
    "Include a description of the data you collected, what processing you did, graphs/plots/visuals created by your code, and your interpretation/analysis of the data. \n",
    "\n",
    "There is no need to include raw data unless it helps your explanation."
   ]
  },
  {
   "cell_type": "markdown",
   "metadata": {},
   "source": [
    "# Wiring\n",
    "\n",
    "#### Distance Sensors\n",
    "![Distance Sensors wiring](distanceSchematic.png)"
   ]
  },
  {
   "cell_type": "markdown",
   "metadata": {},
   "source": [
    "The distance sensors have four pins. The VCC pin is for power, and is connected to Voltage. The Trig pin is connected to a GPIO pin and is the Trigger Pulse Input (i.e. this is what sends the ultrasonic signal out). The Echo pin is also connected to a GPIO pin and it is what receives the ultrasonic signal back. The GND pin is connected to Ground.\n",
    "\n",
    "#### Speakers\n",
    "![Speakers wiring](speakerschematic.png)"
   ]
  },
  {
   "cell_type": "markdown",
   "metadata": {},
   "source": [
    "The speakers each have a positive and negative pin. The positive pin is connected to a GPIO pin and the negative pin is connected to Ground.\n",
    "\n",
    "#### Button\n",
    "\n",
    "![Button Wiring](buttonSchematic.png)"
   ]
  },
  {
   "cell_type": "markdown",
   "metadata": {},
   "source": [
    "The button must be put in the middle of the breadboard, carefully oriented so that the connected pins cross the middle of the breadboard. One set of connected pins is connected to GPIO pin, and the other to Voltage.\n",
    "\n",
    "#### LED\n",
    "![LED wiring](LEDSchematic.png)"
   ]
  },
  {
   "cell_type": "markdown",
   "metadata": {},
   "source": [
    "The LED has a long leg and a short leg. The long leg is connected to a GPIO pin and the short leg is connected to Ground."
   ]
  },
  {
   "cell_type": "markdown",
   "metadata": {},
   "source": [
    "# Code\n",
    "\n",
    "**Libraries**\n",
    "- numpy\n",
    "- RPi.GPIO\n",
    "- time\n",
    "- pigpio\n",
    "- threading\n",
    "- queue"
   ]
  },
  {
   "cell_type": "markdown",
   "metadata": {},
   "source": [
    "There were nine new classes developed for the functioning and use of the Ultrasonic Theremin. \n",
    "\n",
    "#### **Hardware classes**  \n",
    "- DistanceSensor (DistanceSensor.py)  \n",
    "\n",
    "\n",
    "*This class has one function that reads distance data from the sensor*  \n",
    "- Speaker (Speaker.py)  \n",
    "\n",
    "\n",
    "*This class has two functions. The first function, sing, takesne argument which is a Note object and buzzes at the frequency of the Note for the duration of the Note. The second function is a stop function.*  \n",
    "- Button (Button.py)  \n",
    "\n",
    "\n",
    "*This class contains a read function which determines whether the button is pressed.*    \n",
    "- LED (LED.py)  \n",
    "\n",
    "\n",
    "*This class has two functions, one which turns the LED on, and one which turns it off.*  \n",
    "- Theremin (Theremin.py)  \n",
    "\n",
    "\n",
    "*The Theremin class is initiated with two speakers and two distance sensors. There is a function called playNote which takes a Note parameter and plays it through the speakers at the same time using threads. This includes Notes that do not have any sound (type = Quiet). The function readNote takes a reading from each distance sensor and initializes a new Note object using the distances. The last function, readType, is used within readNote and takes a reading from a distance sensor (opposite the frequency distance sensor) which indicates the type when a note is initialized.*  \n",
    "\n",
    "#### **Operation class**  \n",
    "- Studio (Studio.py)  \n",
    "\n",
    "\n",
    "*The Studio class is initialized using a Theremin object and has a Queue. It allows the Theremin to play and measure sound continuously. The thread function reads a  note from the theramin, puts it in the queue, and them immediately plays it. If the queue gets an argument that is False, the loop is broken and the Theremin stops working. The thread is started through the function playTheremin, and the queue recieves a False argument (stopping the Theremin) through the function stopTheremin.*  \n",
    "\n",
    "#### **Data management classes**  \n",
    "- Note (Note.py)  \n",
    "\n",
    "\n",
    "*The Note class is an object with two attributes, duration and pitch. The duration of every note is the same (0.5s), and the pitch is the same as a note from the fourth octave. Initializing the Note takes two arguments, one from the Type distance sensor, and one from the Note distance sensor. If the Type distance sensor is not interacted with, the pitch attribute is 0. If it is not, the Note distance sensor reading is discretized using the discretizeType data processing function from the module Data Processing.*  \n",
    "- Recording (Recording.py)  \n",
    "\n",
    "\n",
    "**add more here___________________________________________________**"
   ]
  },
  {
   "cell_type": "code",
   "execution_count": null,
   "metadata": {},
   "outputs": [],
   "source": []
  },
  {
   "cell_type": "markdown",
   "metadata": {},
   "source": [
    "# Credits\n",
    "\n",
    "Include references to all code you used in your project. If it's a library, provide name, version and download link."
   ]
  }
 ],
 "metadata": {
  "kernelspec": {
   "display_name": "Python 3 (ipykernel)",
   "language": "python",
   "name": "python3"
  },
  "language_info": {
   "codemirror_mode": {
    "name": "ipython",
    "version": 3
   },
   "file_extension": ".py",
   "mimetype": "text/x-python",
   "name": "python",
   "nbconvert_exporter": "python",
   "pygments_lexer": "ipython3",
   "version": "3.9.13"
  },
  "varInspector": {
   "cols": {
    "lenName": 16,
    "lenType": 16,
    "lenVar": 40
   },
   "kernels_config": {
    "python": {
     "delete_cmd_postfix": "",
     "delete_cmd_prefix": "del ",
     "library": "var_list.py",
     "varRefreshCmd": "print(var_dic_list())"
    },
    "r": {
     "delete_cmd_postfix": ") ",
     "delete_cmd_prefix": "rm(",
     "library": "var_list.r",
     "varRefreshCmd": "cat(var_dic_list()) "
    }
   },
   "types_to_exclude": [
    "module",
    "function",
    "builtin_function_or_method",
    "instance",
    "_Feature"
   ],
   "window_display": false
  }
 },
 "nbformat": 4,
 "nbformat_minor": 2
}
